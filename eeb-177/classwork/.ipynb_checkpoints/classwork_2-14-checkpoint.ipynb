{
 "cells": [
  {
   "cell_type": "code",
   "execution_count": 3,
   "metadata": {
    "collapsed": true
   },
   "outputs": [],
   "source": [
    "seq='AGTCATGCATGCA'"
   ]
  },
  {
   "cell_type": "code",
   "execution_count": 2,
   "metadata": {
    "collapsed": true
   },
   "outputs": [],
   "source": [
    "def stringanalyzer(ss):\n",
    "    length=len(ss)\n",
    "    yy=26\n",
    "    zz=yy+length\n",
    "    print(\"This strong had {} characters\".format(length))\n",
    "    return zz"
   ]
  },
  {
   "cell_type": "code",
   "execution_count": 5,
   "metadata": {
    "collapsed": false
   },
   "outputs": [
    {
     "name": "stdout",
     "output_type": "stream",
     "text": [
      "This strong had 13 characters\n",
      "39\n"
     ]
    }
   ],
   "source": [
    "longer_length=stringanalyzer(seq)\n",
    "print(longer_length)"
   ]
  },
  {
   "cell_type": "code",
   "execution_count": 51,
   "metadata": {
    "collapsed": false
   },
   "outputs": [],
   "source": [
    "seq = \"ATTCGTTAT\"\n",
    "def get_at_content(dna, sigfig):\n",
    "    dnalist=[]\n",
    "    length=len(dna)\n",
    "    a_count=dna.upper().count('A')\n",
    "    t_count=dna.upper().count('T')\n",
    "    at_content = (a_count + t_count) / length\n",
    "    #dnalist.append(length)\n",
    "    #dnalist.append(a_count)\n",
    "    #dnalist.append(t_count)\n",
    "    #dnalist.append(at_content)\n",
    "    #dnalist=[length, a_count, t_count, at_content]\n",
    "    return round(at_content,sigfig)\n",
    "    "
   ]
  },
  {
   "cell_type": "code",
   "execution_count": 52,
   "metadata": {
    "collapsed": false
   },
   "outputs": [
    {
     "data": {
      "text/plain": [
       "0.77778"
      ]
     },
     "execution_count": 52,
     "metadata": {},
     "output_type": "execute_result"
    }
   ],
   "source": [
    "res = get_at_content(seq, 5)\n",
    "res"
   ]
  },
  {
   "cell_type": "code",
   "execution_count": 42,
   "metadata": {
    "collapsed": false
   },
   "outputs": [
    {
     "name": "stdout",
     "output_type": "stream",
     "text": [
      "0.72\n"
     ]
    }
   ],
   "source": [
    "print(get_at_content(\"ACGTGTGTGTGGTGTGGTGTGGTGTGTGAAAAAAAAAAAAAAAAAAAAAAAAAAAAA\"))"
   ]
  },
  {
   "cell_type": "code",
   "execution_count": 12,
   "metadata": {
    "collapsed": false
   },
   "outputs": [
    {
     "name": "stdout",
     "output_type": "stream",
     "text": [
      "1.0\n"
     ]
    }
   ],
   "source": [
    "print(get_at_content(\"aaaa\"))"
   ]
  },
  {
   "cell_type": "code",
   "execution_count": 36,
   "metadata": {
    "collapsed": false
   },
   "outputs": [],
   "source": [
    "def base_counter(dna):\n",
    "    base_dict = {}\n",
    "    for character in ['A', 'T', 'G', 'C']:\n",
    "        count=dna.upper().count(character)\n",
    "        base_dict[character] = count\n",
    "    return base_dict\n",
    "        #print(character + \" = \" + str(count))\n",
    "dd= base_counter(seq)\n",
    "dd"
   ]
  },
  {
   "cell_type": "code",
   "execution_count": 38,
   "metadata": {
    "collapsed": false
   },
   "outputs": [
    {
     "data": {
      "text/plain": [
       "dict_keys(['G', 'T', 'A', 'C'])"
      ]
     },
     "execution_count": 38,
     "metadata": {},
     "output_type": "execute_result"
    }
   ],
   "source": [
    "dd.keys()"
   ]
  },
  {
   "cell_type": "code",
   "execution_count": null,
   "metadata": {
    "collapsed": true
   },
   "outputs": [],
   "source": []
  }
 ],
 "metadata": {
  "anaconda-cloud": {},
  "kernelspec": {
   "display_name": "Python [conda root]",
   "language": "python",
   "name": "conda-root-py"
  },
  "language_info": {
   "codemirror_mode": {
    "name": "ipython",
    "version": 3
   },
   "file_extension": ".py",
   "mimetype": "text/x-python",
   "name": "python",
   "nbconvert_exporter": "python",
   "pygments_lexer": "ipython3",
   "version": "3.5.2"
  }
 },
 "nbformat": 4,
 "nbformat_minor": 2
}
