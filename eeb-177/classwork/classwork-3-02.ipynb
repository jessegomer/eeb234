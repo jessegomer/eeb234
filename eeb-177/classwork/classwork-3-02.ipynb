{
 "cells": [
  {
   "cell_type": "code",
   "execution_count": 15,
   "metadata": {
    "collapsed": false
   },
   "outputs": [
    {
     "ename": "NameError",
     "evalue": "name 'outfile' is not defined",
     "output_type": "error",
     "traceback": [
      "\u001b[0;31m---------------------------------------------------------------------------\u001b[0m",
      "\u001b[0;31mNameError\u001b[0m                                 Traceback (most recent call last)",
      "\u001b[0;32m<ipython-input-15-5f3bb4bc053a>\u001b[0m in \u001b[0;36m<module>\u001b[0;34m()\u001b[0m\n\u001b[1;32m      3\u001b[0m \u001b[0mfile\u001b[0m \u001b[0;34m=\u001b[0m\u001b[0mcsv\u001b[0m\u001b[0;34m.\u001b[0m\u001b[0mreader\u001b[0m\u001b[0;34m(\u001b[0m\u001b[0mfile\u001b[0m\u001b[0;34m)\u001b[0m\u001b[0;34m\u001b[0m\u001b[0m\n\u001b[1;32m      4\u001b[0m \u001b[0mnext\u001b[0m\u001b[0;34m(\u001b[0m\u001b[0mfile\u001b[0m\u001b[0;34m,\u001b[0m \u001b[0;32mNone\u001b[0m\u001b[0;34m)\u001b[0m\u001b[0;34m\u001b[0m\u001b[0m\n\u001b[0;32m----> 5\u001b[0;31m \u001b[0mwriter\u001b[0m \u001b[0;34m=\u001b[0m \u001b[0mcsv\u001b[0m\u001b[0;34m.\u001b[0m\u001b[0mwriter\u001b[0m\u001b[0;34m(\u001b[0m\u001b[0moutfile\u001b[0m\u001b[0;34m)\u001b[0m\u001b[0;34m\u001b[0m\u001b[0m\n\u001b[0m\u001b[1;32m      6\u001b[0m \u001b[0;32mfor\u001b[0m \u001b[0mrow\u001b[0m \u001b[0;32min\u001b[0m \u001b[0mreader\u001b[0m\u001b[0;34m:\u001b[0m\u001b[0;34m\u001b[0m\u001b[0m\n\u001b[1;32m      7\u001b[0m     \u001b[0;31m# process each row\u001b[0m\u001b[0;34m\u001b[0m\u001b[0;34m\u001b[0m\u001b[0m\n",
      "\u001b[0;31mNameError\u001b[0m: name 'outfile' is not defined"
     ]
    }
   ],
   "source": [
    "import csv\n",
    "file = open('canids/pbdb_data.csv')\n",
    "file =csv.reader(file)\n",
    "next(file, None)\n",
    "writer = csv.writer(outfile)\n",
    "for row in reader:\n",
    "    # process each row\n",
    "    writer.writerow(row)"
   ]
  },
  {
   "cell_type": "code",
   "execution_count": 77,
   "metadata": {
    "collapsed": false
   },
   "outputs": [],
   "source": [
    "with open(\"canids/pbdb_data.csv\",) as infile, open(\"canids/pbdb_data_cleaned.csv\", 'w') as outfile:\n",
    "    reader = csv.reader(infile)\n",
    "    next(reader, None) \n",
    "    next(reader, None)\n",
    "    next(reader, None)\n",
    "    next(reader, None)\n",
    "    next(reader, None)\n",
    "    next(reader, None)\n",
    "    next(reader, None)\n",
    "    next(reader, None)\n",
    "    next(reader, None)\n",
    "    next(reader, None)\n",
    "    next(reader, None)\n",
    "    next(reader, None)\n",
    "    next(reader, None)\n",
    "    next(reader, None)\n",
    "    next(reader, None)\n",
    "    next(reader, None)\n",
    "    next(reader, None)\n",
    "    next(reader, None)\n",
    "    # skip the headers\n",
    "    writer = csv.writer(outfile)\n",
    "    for row in reader:\n",
    "       row=row\n",
    "    # process each row\n",
    "       writer.writerow(row)"
   ]
  },
  {
   "cell_type": "code",
   "execution_count": 97,
   "metadata": {
    "collapsed": false
   },
   "outputs": [],
   "source": [
    "canids = pd.read_csv('canids/pbdb_data_cleaned.csv')\n",
    "#canids_cleaned= canids['accpted_name']"
   ]
  },
  {
   "cell_type": "code",
   "execution_count": 99,
   "metadata": {
    "collapsed": false
   },
   "outputs": [],
   "source": [
    "#canids"
   ]
  },
  {
   "cell_type": "code",
   "execution_count": 82,
   "metadata": {
    "collapsed": true
   },
   "outputs": [],
   "source": [
    "# make dictionary\n",
    "infile=\"canids/pbdb_data_cleaned.csv\"\n",
    "with open(infile, 'r') as ff:\n",
    "    canid_recs = ff.readlines()\n",
    "    "
   ]
  },
  {
   "cell_type": "code",
   "execution_count": 103,
   "metadata": {
    "collapsed": false
   },
   "outputs": [],
   "source": [
    "# make a dictionary\n",
    "from collections import defaultdict\n",
    "\n",
    "species_ranges = defaultdict(list)\n",
    "\n",
    "for line in canid_recs:\n",
    "    species= line.split(\",\")[5]\n",
    "    minage= line.split(',')[10]\n",
    "    maxage=line.split(',')[11]\n",
    "    meanage =(float(minage)+float(maxage))/2\n",
    "    \n",
    "    species_ranges[species].append(meanage)"
   ]
  },
  {
   "cell_type": "code",
   "execution_count": 119,
   "metadata": {
    "collapsed": false
   },
   "outputs": [],
   "source": [
    "output = open(\"canids/test.csv\", \"w\")\n",
    "for key in species_ranges.keys():\n",
    "    ages = species_ranges[key]\n",
    "    min_age= min(ages)\n",
    "    max_age = max(ages)\n",
    "    #genus = key[]\n",
    "    #print(key, minage, maxage)\n",
    "    outline = \"{},{},{}\\n\".format(key, min_age, max_age)\n",
    "    output.write(outline)\n",
    "output.close()"
   ]
  },
  {
   "cell_type": "code",
   "execution_count": null,
   "metadata": {
    "collapsed": true
   },
   "outputs": [],
   "source": []
  }
 ],
 "metadata": {
  "anaconda-cloud": {},
  "kernelspec": {
   "display_name": "Python [conda root]",
   "language": "python",
   "name": "conda-root-py"
  },
  "language_info": {
   "codemirror_mode": {
    "name": "ipython",
    "version": 3
   },
   "file_extension": ".py",
   "mimetype": "text/x-python",
   "name": "python",
   "nbconvert_exporter": "python",
   "pygments_lexer": "ipython3",
   "version": "3.5.2"
  }
 },
 "nbformat": 4,
 "nbformat_minor": 2
}
