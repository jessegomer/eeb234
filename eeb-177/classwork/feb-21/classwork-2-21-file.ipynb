{
 "cells": [
  {
   "cell_type": "markdown",
   "metadata": {},
   "source": [
    "### What does each row in cocoli.txt represent?\n",
    "\n",
    "Each row represents an individual tree with all data for the individual:tag, species code, x and y coordinates, dbh for 3 largest stems,  whether the tree is alive or dead, dates of sampling"
   ]
  },
  {
   "cell_type": "markdown",
   "metadata": {},
   "source": [
    "### What does each row in cocolisp.txt represent?\n",
    "\n",
    "It is a species list with species code, Genus, species, and family"
   ]
  },
  {
   "cell_type": "markdown",
   "metadata": {},
   "source": [
    "### multi2\n",
    "\n",
    "The number of stems from census 2: 4 from 1997\n",
    "\n",
    "### dbh2\n",
    "\n",
    "The diameter breast height from census 2: 69mm from 1997\n",
    "\n",
    "### How can we find the genus and species name of this record\n",
    "\n",
    "Code: CAL2CA\n",
    "Species: Calycophyllum\tcandidissimum"
   ]
  },
  {
   "cell_type": "markdown",
   "metadata": {},
   "source": [
    "### Guided exploration of the data\n",
    "\n",
    "individual 00001 is alive\n",
    "individual 000029 died between 1994 and 1998\n",
    "\n",
    "\n",
    "Interesting Questions to Ask:\n",
    "Growth rates of trees over time and compare between species\n",
    "Look for effect of dbh on growth rates\n",
    "compare mortality among species\n",
    "look for spatial distribution of species, how that effects growth rates\n",
    "\n",
    "look at the relartionship between size and abundance of species in the plot\n",
    "plot species curves of the tree species with relative abundance\n",
    "\n",
    "\n",
    "### Genus found on most lines\n",
    "sed 's/\\s/,/g' cocolisp.txt | cut -d ',' -f 2 | sort| uniq -c | sort -n\n",
    "Answer: Piper 7\n",
    "\n",
    "sed 's/\\s/,/g' cocolisp.txt | cut -d ',' -f 2 | sort| uniq -c | sort -n | grep -w 1 | wc -l\n",
    "99\n",
    "\n",
    "127\n"
   ]
  },
  {
   "cell_type": "markdown",
   "metadata": {},
   "source": [
    "### Guided Exploration\n",
    "psuedocode\n",
    "1. build dictionary of individual (key) to values: size in 1994 and size in 1998\n",
    "2. new dictionary individual key: to calculated RGR for each species\n",
    "3. use pandas to convert dictionary into array with matching indexing of key and value\n",
    "4. pandas sort descending on values column\n",
    "5. slice the first value and print it to screen"
   ]
  }
 ],
 "metadata": {
  "anaconda-cloud": {},
  "kernelspec": {
   "display_name": "Python [conda root]",
   "language": "python",
   "name": "conda-root-py"
  },
  "language_info": {
   "codemirror_mode": {
    "name": "ipython",
    "version": 3
   },
   "file_extension": ".py",
   "mimetype": "text/x-python",
   "name": "python",
   "nbconvert_exporter": "python",
   "pygments_lexer": "ipython3",
   "version": "3.5.2"
  }
 },
 "nbformat": 4,
 "nbformat_minor": 2
}
