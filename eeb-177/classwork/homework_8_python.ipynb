{
 "cells": [
  {
   "cell_type": "code",
   "execution_count": 40,
   "metadata": {
    "collapsed": false
   },
   "outputs": [
    {
     "ename": "ValueError",
     "evalue": "I/O operation on closed file.",
     "output_type": "error",
     "traceback": [
      "\u001b[0;31m---------------------------------------------------------------------------\u001b[0m",
      "\u001b[0;31mValueError\u001b[0m                                Traceback (most recent call last)",
      "\u001b[0;32m<ipython-input-40-45b972c33ca0>\u001b[0m in \u001b[0;36m<module>\u001b[0;34m()\u001b[0m\n\u001b[1;32m      6\u001b[0m \u001b[0;32mfor\u001b[0m \u001b[0mrow\u001b[0m \u001b[0;32min\u001b[0m \u001b[0mfile\u001b[0m\u001b[0;34m:\u001b[0m\u001b[0;34m\u001b[0m\u001b[0m\n\u001b[1;32m      7\u001b[0m     \u001b[0;31m# process each row\u001b[0m\u001b[0;34m\u001b[0m\u001b[0;34m\u001b[0m\u001b[0m\n\u001b[0;32m----> 8\u001b[0;31m     \u001b[0mwriter\u001b[0m\u001b[0;34m.\u001b[0m\u001b[0mwriterow\u001b[0m\u001b[0;34m(\u001b[0m\u001b[0mrow\u001b[0m\u001b[0;34m)\u001b[0m\u001b[0;34m\u001b[0m\u001b[0m\n\u001b[0m",
      "\u001b[0;31mValueError\u001b[0m: I/O operation on closed file."
     ]
    }
   ],
   "source": [
    "import csv\n",
    "file = open('canids/pbdb_data.csv')\n",
    "file =csv.reader(file)\n",
    "next(file, None)\n",
    "writer = csv.writer(outfile)\n",
    "for row in file:\n",
    "    # process each row\n",
    "    writer.writerow(row)"
   ]
  },
  {
   "cell_type": "code",
   "execution_count": 41,
   "metadata": {
    "collapsed": false
   },
   "outputs": [],
   "source": [
    "with open(\"canids/pbdb_data.csv\",) as infile, open(\"canids/pbdb_data_cleaned.csv\", 'w') as outfile:\n",
    "    reader = csv.reader(infile)\n",
    "    next(reader, None) \n",
    "    next(reader, None)\n",
    "    next(reader, None)\n",
    "    next(reader, None)\n",
    "    next(reader, None)\n",
    "    next(reader, None)\n",
    "    next(reader, None)\n",
    "    next(reader, None)\n",
    "    next(reader, None)\n",
    "    next(reader, None)\n",
    "    next(reader, None)\n",
    "    next(reader, None)\n",
    "    next(reader, None)\n",
    "    next(reader, None)\n",
    "    next(reader, None)\n",
    "    next(reader, None)\n",
    "    next(reader, None)\n",
    "    next(reader, None)\n",
    "    # skip the headers\n",
    "    writer = csv.writer(outfile)\n",
    "    for row in reader:\n",
    "       row=row\n",
    "    # process each row\n",
    "       writer.writerow(row)"
   ]
  },
  {
   "cell_type": "code",
   "execution_count": 15,
   "metadata": {
    "collapsed": false
   },
   "outputs": [],
   "source": [
    "#canid function to create dictionary of species (only) and ages of fossils known for each species\n",
    "from collections import defaultdict\n",
    "\n",
    "def species_dict(filename):\n",
    "    # make dictionary\n",
    "    infile = filename\n",
    "    with open(infile, 'r') as ff:\n",
    "        canid_recs = ff.readlines()\n",
    "\n",
    "    from collections import defaultdict\n",
    "\n",
    "    species_ranges = defaultdict(list)\n",
    "\n",
    "    for line in canid_recs:\n",
    "        if line.split(\",\")[6] == 'species':\n",
    "            species= line.split(\",\")[5]\n",
    "            minage= line.split(',')[10]\n",
    "            maxage=line.split(',')[11]\n",
    "            meanage =(float(minage)+float(maxage))/2\n",
    "    \n",
    "            species_ranges[species].append(meanage)\n",
    "    return(species_ranges)"
   ]
  },
  {
   "cell_type": "code",
   "execution_count": 71,
   "metadata": {
    "collapsed": false
   },
   "outputs": [],
   "source": [
    "species_ranges = species_dict('canids/pbdb_data_cleaned.csv')"
   ]
  },
  {
   "cell_type": "code",
   "execution_count": 6,
   "metadata": {
    "collapsed": false
   },
   "outputs": [],
   "source": [
    "def max_min_age(dictionary,output):\n",
    "    output = open(output, \"w\")\n",
    "    species_ranges = dictionary\n",
    "    for key in species_ranges.keys():\n",
    "        ages = species_ranges[key]\n",
    "        genus = key.split()\n",
    "        min_age= min(ages)\n",
    "        max_age = max(ages)\n",
    "        #print(genus[1])\n",
    "        #print(key, minage, maxage)\n",
    "        outline = \"{},{},{},{}\\n\".format(genus[0], genus[1], min_age, max_age)\n",
    "        output.write(outline)\n",
    "    output.close()"
   ]
  },
  {
   "cell_type": "code",
   "execution_count": 77,
   "metadata": {
    "collapsed": false
   },
   "outputs": [],
   "source": [
    "max_min_age(species_ranges, 'canids/max_min_ages.csv')"
   ]
  },
  {
   "cell_type": "code",
   "execution_count": 16,
   "metadata": {
    "collapsed": false
   },
   "outputs": [],
   "source": [
    "# Third Function\n",
    "# find species with longest fossil range given a dictionary of species ranges\n",
    "import operator\n",
    "long_fossil = defaultdict(list)\n",
    "\n",
    "def longest_fossil_range(dictionary):\n",
    "    species_ranges = dictionary\n",
    "    for key in species_ranges.keys():\n",
    "        ages = species_ranges[key]\n",
    "        genus = key.split()\n",
    "        min_age= min(ages)\n",
    "        max_age = max(ages)\n",
    "        ranger = max_age - min_age\n",
    "        long_fossil[key].append(ranger)\n",
    "    sorted_l_fossil = sorted(long_fossil.items(), key= operator.itemgetter(1))\n",
    "    print(str(sorted_l_fossil[-1][0]))\n",
    "        "
   ]
  },
  {
   "cell_type": "code",
   "execution_count": 103,
   "metadata": {
    "collapsed": false
   },
   "outputs": [
    {
     "name": "stdout",
     "output_type": "stream",
     "text": [
      "Cormocyon copei\n"
     ]
    }
   ],
   "source": [
    "longest_fossil_range(species_ranges)"
   ]
  },
  {
   "cell_type": "code",
   "execution_count": 3,
   "metadata": {
    "collapsed": false
   },
   "outputs": [],
   "source": [
    "with open(\"canids/pbdb_data_cats.csv\",) as infile, open(\"canids/pbdb_data_cats_cleaned.csv\", 'w') as outfile:\n",
    "    reader = csv.reader(infile)\n",
    "    next(reader, None) \n",
    "    next(reader, None)\n",
    "    next(reader, None)\n",
    "    next(reader, None)\n",
    "    next(reader, None)\n",
    "    next(reader, None)\n",
    "    next(reader, None)\n",
    "    next(reader, None)\n",
    "    next(reader, None)\n",
    "    next(reader, None)\n",
    "    next(reader, None)\n",
    "    next(reader, None)\n",
    "    next(reader, None)\n",
    "    next(reader, None)\n",
    "    next(reader, None)\n",
    "    next(reader, None)\n",
    "    next(reader, None)\n",
    "    next(reader, None)\n",
    "    # skip the headers\n",
    "    writer = csv.writer(outfile)\n",
    "    for row in reader:\n",
    "       row=row\n",
    "    # process each row\n",
    "       writer.writerow(row)"
   ]
  },
  {
   "cell_type": "code",
   "execution_count": 7,
   "metadata": {
    "collapsed": false
   },
   "outputs": [],
   "source": [
    "species_ranges = species_dict('canids/pbdb_data_cats_cleaned.csv')"
   ]
  },
  {
   "cell_type": "code",
   "execution_count": 8,
   "metadata": {
    "collapsed": true
   },
   "outputs": [],
   "source": [
    "max_min_age(species_ranges, 'canids/cats.csv')"
   ]
  },
  {
   "cell_type": "code",
   "execution_count": 17,
   "metadata": {
    "collapsed": false
   },
   "outputs": [
    {
     "name": "stdout",
     "output_type": "stream",
     "text": [
      "Caracal caracal\n"
     ]
    }
   ],
   "source": [
    "longest_fossil_range(species_ranges)"
   ]
  }
 ],
 "metadata": {
  "anaconda-cloud": {},
  "kernelspec": {
   "display_name": "Python [conda root]",
   "language": "python",
   "name": "conda-root-py"
  },
  "language_info": {
   "codemirror_mode": {
    "name": "ipython",
    "version": 3
   },
   "file_extension": ".py",
   "mimetype": "text/x-python",
   "name": "python",
   "nbconvert_exporter": "python",
   "pygments_lexer": "ipython3",
   "version": "3.5.2"
  }
 },
 "nbformat": 4,
 "nbformat_minor": 2
}
