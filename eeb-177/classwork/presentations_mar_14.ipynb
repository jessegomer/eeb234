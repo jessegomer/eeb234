{
 "cells": [
  {
   "cell_type": "markdown",
   "metadata": {},
   "source": [
    "# Presentations\n",
    "\n",
    "\n",
    "##### Presentation 1\n",
    "What biological or geological process may have caused the large speciation rates in your Pyrate graphs and what does that say about shark speciation and extinction?\n",
    "\n",
    "##### Presentation 2\n",
    "What are some of the major drivers in canis speciation and extinction?\n",
    "\n",
    "##### Presentation 3\n",
    "What is a biological and a geological explanation for the severe loss of diversity in the clade Proboscidae?\n",
    "\n",
    "##### Presentation 4\n",
    "How does country decision time play a role in conservation biology?\n",
    "\n",
    "##### Presentation 5\n",
    "Was there a noticable difference in growth rates within blocking groups at each site and are there recorded environmental variables that may explain these differences?\n",
    "\n",
    "##### Presentation 6\n",
    "What evolutionary processes could be driving the long length of species survival time in this clade?\n",
    "\n",
    "##### Presentation 7\n",
    "What further analysis on Aligatoridae diversification would you like to explore?\n",
    "\n",
    "##### Presentation 8\n",
    "What recent taxa migrated to North America?\n",
    "\n",
    "##### Presentation 9\n",
    "Are there unique habitats that favor birds over mammals? and what are some physiological reasons that may explain these distributions?\n",
    "\n",
    "##### Presentation 10\n",
    "What unique evolutionary traits does the Haplorhynie clade have may have affected their diversification rates.\n",
    "\n",
    "##### Presentation 11\n",
    "Where most people below their VO2 and metablolic thresholds?\n",
    "\n",
    "##### Presentation 12\n",
    "Have you considered running mulitple model types and comparing the different results from each model to see if they are consistent with the underlying biology?\n",
    "\n",
    "##### Presentation 13\n",
    "How can the german cockroach color response results inform how organisms respond to different visual stimuli and can this be used for pest control of these species?\n",
    "\n",
    "##### Presentation 14\n",
    "What was the most useful coding trick you learned throughout the project?\n",
    "\n",
    "##### Presentation 15\n",
    "How would understanding the evolutionary history of these birds allow us to better understand the spread of the bird influenza virus?"
   ]
  }
 ],
 "metadata": {
  "anaconda-cloud": {},
  "kernelspec": {
   "display_name": "Python [conda root]",
   "language": "python",
   "name": "conda-root-py"
  },
  "language_info": {
   "codemirror_mode": {
    "name": "ipython",
    "version": 3
   },
   "file_extension": ".py",
   "mimetype": "text/x-python",
   "name": "python",
   "nbconvert_exporter": "python",
   "pygments_lexer": "ipython3",
   "version": "3.5.2"
  }
 },
 "nbformat": 4,
 "nbformat_minor": 2
}
