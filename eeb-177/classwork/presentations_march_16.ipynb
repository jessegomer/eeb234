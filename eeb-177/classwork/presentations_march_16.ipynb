{
 "cells": [
  {
   "cell_type": "markdown",
   "metadata": {},
   "source": [
    "# Questions \n",
    "## March 16 2017\n",
    "\n",
    "##### dinosaurs\n",
    "What additional information can pyrate provide to boost our understanding of dinosaur evolution?\n",
    "\n",
    "##### whales\n",
    "How does the evolution rate of whales compare to sister Arctidactylae taxa?\n",
    "\n",
    "##### dogs\n",
    "What analysis or insights have you done or gained on Canidae that are unique from the other students in this course?\n",
    "\n",
    "##### bats\n",
    "What do you think were the major drivers of bat diversifcation?\n",
    "\n",
    "##### autism\n",
    "How can this research better help our understanding of autism and treatment of the disease?\n",
    "\n",
    "##### horses\n",
    "How did the rates of diversification of Equids vary in North America vs the rest of the world?\n",
    "\n",
    "##### seagrasses\n",
    "How has the invasion of the red sea grass into the Mediterreanean and then the Carribean affected the local ecosystem? \n",
    "\n",
    "##### Canidae\n",
    "What species of Canids had the longest fossil record?\n",
    "\n",
    "##### Trogons\n",
    "What era, presumably not the Devonian aka age of fishes, had the highest Trogon diversity?\n",
    "\n",
    "##### Aves\n",
    "How many fossil occurances are you using to determine your analyses?\n",
    "\n",
    "##### Frogs\n",
    "What do you think caused a rapid decline in frog extinction rates 20-30mya?\n",
    "\n",
    "#####  Heteromyidae\n",
    "Do recent fossil record decreases in diversification signify that modern species are at risk of extinction?\n",
    "\n",
    "##### Felidae\n",
    "What are the interesting patterns of fossil occurances over time and what do they informus of the evolution and ecology of Felidae?\n",
    "\n",
    "##### Mustelidae\n",
    "WHat were the environmental changes that lead to declines in this clades speciation and increase in their diversification rate.\n",
    "\n",
    "\n",
    "\n",
    "\n",
    "\n",
    "\n",
    "\n",
    "\n"
   ]
  }
 ],
 "metadata": {
  "anaconda-cloud": {},
  "kernelspec": {
   "display_name": "Python [conda root]",
   "language": "python",
   "name": "conda-root-py"
  },
  "language_info": {
   "codemirror_mode": {
    "name": "ipython",
    "version": 3
   },
   "file_extension": ".py",
   "mimetype": "text/x-python",
   "name": "python",
   "nbconvert_exporter": "python",
   "pygments_lexer": "ipython3",
   "version": "3.5.2"
  }
 },
 "nbformat": 4,
 "nbformat_minor": 2
}
