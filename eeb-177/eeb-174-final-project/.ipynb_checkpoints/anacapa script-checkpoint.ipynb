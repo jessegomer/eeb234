{
 "cells": [
  {
   "cell_type": "code",
   "execution_count": null,
   "metadata": {
    "collapsed": true
   },
   "outputs": [],
   "source": [
    "import csv\n",
    "def decontaminator(file):\n",
    "    with open(file,'rb') as tsvin, open('new.csv', 'wb') as csvout:\n",
    "        tsvin = csv.reader(tsvin, delimiter='\\t')\n",
    "        csvout = csv.writer(csvout)\n",
    "        \n",
    "        for row in tsvin:\n",
    "            count = int(row[5])\n",
    "            if count > 0:\n",
    "                for site in row:\n",
    "                    if site < count:\n",
    "                        site = 0\n",
    "                \n",
    "                csvout.writerows([row[2:4] for _ in xrange(count)])\n",
    "    \n",
    "    "
   ]
  },
  {
   "cell_type": "code",
   "execution_count": 79,
   "metadata": {
    "collapsed": false
   },
   "outputs": [],
   "source": [
    "import csv\n",
    "with open(\"better_test.txt\",\"r\") as tsvin1, open('no_tax.csv', 'w') as csvout1, open('taxonomy.csv','w') as taxout:\n",
    "    tsvin1 = csv.reader(tsvin1, delimiter='\\t')\n",
    "    #headers = tsvin.next()\n",
    "    #headers = tsvin.next()\n",
    "    csvout1= csv.writer(csvout1)\n",
    "    taxout=csv.                                                                               \n",
    "    for row in tsvin1:\n",
    "        csvout1.writerow(row[:-1])"
   ]
  },
  {
   "cell_type": "code",
   "execution_count": 78,
   "metadata": {
    "collapsed": false
   },
   "outputs": [
    {
     "ename": "UnsupportedOperation",
     "evalue": "not readable",
     "output_type": "error",
     "traceback": [
      "\u001b[0;31m---------------------------------------------------------------------------\u001b[0m",
      "\u001b[0;31mUnsupportedOperation\u001b[0m                      Traceback (most recent call last)",
      "\u001b[0;32m<ipython-input-78-31eb7c3616bb>\u001b[0m in \u001b[0;36m<module>\u001b[0;34m()\u001b[0m\n\u001b[1;32m      6\u001b[0m         \u001b[0mcsvout\u001b[0m \u001b[0;34m=\u001b[0m \u001b[0mcsv\u001b[0m\u001b[0;34m.\u001b[0m\u001b[0mwriter\u001b[0m\u001b[0;34m(\u001b[0m\u001b[0mcsvout\u001b[0m\u001b[0;34m)\u001b[0m\u001b[0;34m\u001b[0m\u001b[0m\n\u001b[1;32m      7\u001b[0m \u001b[0;34m\u001b[0m\u001b[0m\n\u001b[0;32m----> 8\u001b[0;31m         \u001b[0;32mfor\u001b[0m \u001b[0mrow\u001b[0m \u001b[0;32min\u001b[0m \u001b[0mcsvin\u001b[0m\u001b[0;34m:\u001b[0m\u001b[0;34m\u001b[0m\u001b[0m\n\u001b[0m\u001b[1;32m      9\u001b[0m             \u001b[0mcontam_blank\u001b[0m \u001b[0;34m=\u001b[0m \u001b[0mint\u001b[0m\u001b[0;34m(\u001b[0m\u001b[0mrow\u001b[0m\u001b[0;34m[\u001b[0m\u001b[0;36m5\u001b[0m\u001b[0;34m]\u001b[0m\u001b[0;34m)\u001b[0m\u001b[0;34m\u001b[0m\u001b[0m\n\u001b[1;32m     10\u001b[0m             \u001b[0mcontam_pcr\u001b[0m \u001b[0;34m=\u001b[0m \u001b[0mint\u001b[0m\u001b[0;34m(\u001b[0m\u001b[0mrow\u001b[0m\u001b[0;34m[\u001b[0m\u001b[0;36m8\u001b[0m\u001b[0;34m]\u001b[0m\u001b[0;34m)\u001b[0m\u001b[0;34m\u001b[0m\u001b[0m\n",
      "\u001b[0;31mUnsupportedOperation\u001b[0m: not readable"
     ]
    }
   ],
   "source": [
    "import csv\n",
    "with open('no_tax.csv','w') as csvin, open('cleaned_otu_table.csv', 'w') as csvout:\n",
    "        csvin = csv.reader(csvin)\n",
    "        #headers = tsvin.next()\n",
    "        #headers = tsvin.next()\n",
    "        csvout = csv.writer(csvout)\n",
    "\n",
    "        for row in csvin:\n",
    "            contam_blank = int(row[5])\n",
    "            contam_pcr = int(row[8])\n",
    "            if contam_blank > 0:\n",
    "                for site in range(len(row)):\n",
    "                    seq= int(row[int(site)])\n",
    "                    if seq < count:\n",
    "                        row[int(site)] = 0\n",
    "                        csvout.writerow(row)\n",
    "                    else:  csvout.writerow(row)\n",
    "                        \n",
    "            else: csvout.writerow(row)\n",
    "                "
   ]
  },
  {
   "cell_type": "code",
   "execution_count": null,
   "metadata": {
    "collapsed": true
   },
   "outputs": [],
   "source": []
  }
 ],
 "metadata": {
  "anaconda-cloud": {},
  "kernelspec": {
   "display_name": "Python [conda root]",
   "language": "python",
   "name": "conda-root-py"
  },
  "language_info": {
   "codemirror_mode": {
    "name": "ipython",
    "version": 3
   },
   "file_extension": ".py",
   "mimetype": "text/x-python",
   "name": "python",
   "nbconvert_exporter": "python",
   "pygments_lexer": "ipython3",
   "version": "3.5.2"
  }
 },
 "nbformat": 4,
 "nbformat_minor": 2
}
