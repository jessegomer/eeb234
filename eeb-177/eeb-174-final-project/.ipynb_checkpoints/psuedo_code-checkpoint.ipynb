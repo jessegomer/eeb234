{
 "cells": [
  {
   "cell_type": "markdown",
   "metadata": {},
   "source": [
    "# eDNA Bioinformatics Pipeline\n",
    "## Anacapa\n",
    "### Zachary Gold\n",
    "### Barber Lab 2017\n",
    "\n",
    "## Psuedo Code Outline of Pipeline\n",
    "\n",
    "### Script 1: rlibrary_builder\n",
    "#### Generating a Refernce Library\n",
    "1. in silica PCR with PrimerTree using use primer of interest\n",
    "2. local BLAST the PrimerTree output against NCBI for user sequences of interest\n",
    "3.  take BLAST output and run lowest common ancestor from MEGAN taxonomy assignment\n",
    "4. output is finished taxonomy file\n",
    "\n",
    "### Script 2: anacapa\n",
    "#### Cleaning Raw Sequence Data\n",
    "1. Take Raw sequence data and feed it into PEAR (paired end read merger).\n",
    "2. PEAR script is \" an ultrafast, memory-efficient and highly accurate pair-end read merger.\"\n",
    "The output of this program is a file with matched forward and reverse sequence pairs as well as another file with non matched reads. The goal is to use only matched reads for the eDNA analysis as that ensures complete and accurate sequencing of the read not from a potential chimera or sequencing error. Out put is a Fastq file.\n",
    "3. Take the paired end Fastq output and rename the file by sample\n",
    "4. Concatenate the fastq across samples\n",
    "5. Use the script cutadapt to remove Illumina nextera adapters\n",
    "6. Custom Primer Sort Script (not mine) to seperate sequences by primer\n",
    "7. Use FastX toolkit to remove low quality and short reads\n",
    "\n",
    "\n",
    "#### Taxonomy Assignment usign QIIME\n",
    "1. SWARM OTU clustering on cleaned sequence Fastq file\n",
    "2. Pick representative OTUs using Qiime\n",
    "3. QIIME Taxonomy assignment using BLAST with finished taxonomy file. Out put is BIOM table\n",
    "4. Set threshold sequence contamination values from PCR and Field blanks BIOM table\n",
    "5. My own custom Python script to remove all sequences less than contamination threshold from other samples. Output is a cleaned BIOM table\n",
    "\n",
    "#### Data Analysis\n",
    "1. Qiime Alpha rarefaction curves to determine a) number of species/OTUs b) success of sequencing depth c) compare shannon diversity across samples\n",
    "2. Qiime Beta Diversity analysis: jackknife boostrapped PCA plots to compare communities across user chosen variable ie habitat type, depth, time of sampling, environmental variable, MPA type, etc.\n",
    "3. PERMANOVA and PERMDISP stastical analysis to quantify differences in betadiversity across samples/variable of interest\n",
    "4. QIIME data summary to calculate percent abundances of species\n",
    "5. Script/stastical package to take matching visual or other traditional survey method and compare pairwise relative abundance to eDNA sample\n",
    "6. Estimate species recovery rates (how many eDNA samples need to be taken to saturate a regions biodiversity) based on total number of known species and \n"
   ]
  }
 ],
 "metadata": {
  "anaconda-cloud": {},
  "kernelspec": {
   "display_name": "Python [conda root]",
   "language": "python",
   "name": "conda-root-py"
  },
  "language_info": {
   "codemirror_mode": {
    "name": "ipython",
    "version": 3
   },
   "file_extension": ".py",
   "mimetype": "text/x-python",
   "name": "python",
   "nbconvert_exporter": "python",
   "pygments_lexer": "ipython3",
   "version": "3.5.2"
  }
 },
 "nbformat": 4,
 "nbformat_minor": 2
}
