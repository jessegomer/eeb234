{
 "cells": [
  {
   "cell_type": "code",
   "execution_count": 26,
   "metadata": {
    "collapsed": true
   },
   "outputs": [],
   "source": [
    "def best_taxon_picker(line,threshold):\n",
    "    output = []\n",
    "    splitted = line.split(';')\n",
    "    for i in range(0,len(splitted)-1,2):\n",
    "        taxon = splitted[i]\n",
    "        match_level = splitted[i+1]\n",
    "        if float(match_level.strip()) >= threshold:\n",
    "            output.append(taxon+';'+match_level)\n",
    "    otu_taxon = \";\".join(output) + \";\"\n",
    "    return otu_taxon"
   ]
  },
  {
   "cell_type": "code",
   "execution_count": 18,
   "metadata": {
    "collapsed": true
   },
   "outputs": [],
   "source": [
    "threshold = 100"
   ]
  },
  {
   "cell_type": "code",
   "execution_count": 30,
   "metadata": {
    "collapsed": false
   },
   "outputs": [],
   "source": [
    "with open(\"/Users/zackgold/Documents/UCLA_phd/Projects/anacapa/python_test/mifish_rep_set_localsonly20-taxonomy.txt\") as infile, open(\"/Users/zackgold/Documents/UCLA_phd/Projects/anacapa/python_test/mifish_rep_set_localsonly20-taxonomy_best_taxonomy.txt\", 'w') as outfile:\n",
    "    for line in infile:\n",
    "        outfile.write(best_taxon_picker(line,threshold)+'\\n')"
   ]
  },
  {
   "cell_type": "code",
   "execution_count": null,
   "metadata": {
    "collapsed": true
   },
   "outputs": [],
   "source": [
    "open()"
   ]
  },
  {
   "cell_type": "code",
   "execution_count": 2,
   "metadata": {
    "collapsed": false
   },
   "outputs": [],
   "source": [
    "seq = \"denovo0\troot; 100; cellular organisms; 100; Eukaryota; 100; Opisthokonta; 100; Metazoa; 100; Eumetazoa; 100; Bilateria; 100; Deuterostomia; 100; Chordata; 100; Craniata; 100; Vertebrata; 100; Gnathostomata; 100; Teleostomi; 100; Euteleostomi; 100; Actinopterygii; 100; Actinopteri; 100; Neopterygii; 100; Teleostei; 100; Osteoglossocephalai; 100; Clupeocephala; 100; Euteleosteomorpha; 100; Neoteleostei; 100; Eurypterygia; 100; Ctenosquamata; 100; Acanthomorphata; 100; Euacanthomorphacea; 100; Percomorphaceae; 100; Eupercaria; 100; Centrarchiformes; 100; Terapontoidei; 100; Kyphosidae; 100; Kyphosinae; 95; Kyphosus; 95; Kyphosus bigibbus; 40;\""
   ]
  },
  {
   "cell_type": "code",
   "execution_count": 12,
   "metadata": {
    "collapsed": true
   },
   "outputs": [],
   "source": [
    "splitted = seq.split(';')"
   ]
  },
  {
   "cell_type": "code",
   "execution_count": 21,
   "metadata": {
    "collapsed": false
   },
   "outputs": [
    {
     "name": "stdout",
     "output_type": "stream",
     "text": [
      "['denovo0\\troot; 100', ' cellular organisms; 100', ' Eukaryota; 100', ' Opisthokonta; 100', ' Metazoa; 100', ' Eumetazoa; 100', ' Bilateria; 100', ' Deuterostomia; 100', ' Chordata; 100', ' Craniata; 100', ' Vertebrata; 100', ' Gnathostomata; 100', ' Teleostomi; 100', ' Euteleostomi; 100', ' Actinopterygii; 100', ' Actinopteri; 100', ' Neopterygii; 100', ' Teleostei; 100', ' Osteoglossocephalai; 100', ' Clupeocephala; 100', ' Euteleosteomorpha; 100', ' Neoteleostei; 100', ' Eurypterygia; 100', ' Ctenosquamata; 100', ' Acanthomorphata; 100', ' Euacanthomorphacea; 100', ' Percomorphaceae; 100', ' Eupercaria; 100', ' Centrarchiformes; 100', ' Terapontoidei; 100', ' Kyphosidae; 100']\n"
     ]
    }
   ],
   "source": [
    "output = []\n",
    "for i in range(0,len(splitted)-1,2):\n",
    "    taxon = splitted[i]\n",
    "    match_level = splitted[i+1]\n",
    "    if float(match_level.strip()) >= threshold:\n",
    "        output.append(taxon+';'+match_level)\n",
    "print(output)"
   ]
  },
  {
   "cell_type": "code",
   "execution_count": 25,
   "metadata": {
    "collapsed": false
   },
   "outputs": [
    {
     "name": "stdout",
     "output_type": "stream",
     "text": [
      "denovo0\troot; 100; cellular organisms; 100; Eukaryota; 100; Opisthokonta; 100; Metazoa; 100; Eumetazoa; 100; Bilateria; 100; Deuterostomia; 100; Chordata; 100; Craniata; 100; Vertebrata; 100; Gnathostomata; 100; Teleostomi; 100; Euteleostomi; 100; Actinopterygii; 100; Actinopteri; 100; Neopterygii; 100; Teleostei; 100; Osteoglossocephalai; 100; Clupeocephala; 100; Euteleosteomorpha; 100; Neoteleostei; 100; Eurypterygia; 100; Ctenosquamata; 100; Acanthomorphata; 100; Euacanthomorphacea; 100; Percomorphaceae; 100; Eupercaria; 100; Centrarchiformes; 100; Terapontoidei; 100; Kyphosidae; 100;\n"
     ]
    }
   ],
   "source": [
    "otu_taxon = \";\".join(output) + \";\"\n",
    "print(otu_taxon)"
   ]
  },
  {
   "cell_type": "code",
   "execution_count": null,
   "metadata": {
    "collapsed": true
   },
   "outputs": [],
   "source": []
  }
 ],
 "metadata": {
  "anaconda-cloud": {},
  "kernelspec": {
   "display_name": "Python [conda root]",
   "language": "python",
   "name": "conda-root-py"
  },
  "language_info": {
   "codemirror_mode": {
    "name": "ipython",
    "version": 2
   },
   "file_extension": ".py",
   "mimetype": "text/x-python",
   "name": "python",
   "nbconvert_exporter": "python",
   "pygments_lexer": "ipython2",
   "version": "2.7.12"
  }
 },
 "nbformat": 4,
 "nbformat_minor": 1
}
