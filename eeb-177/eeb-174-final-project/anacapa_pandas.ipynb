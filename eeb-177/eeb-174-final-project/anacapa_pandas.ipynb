{
 "cells": [
  {
   "cell_type": "code",
   "execution_count": 44,
   "metadata": {
    "collapsed": false
   },
   "outputs": [],
   "source": [
    "import numpy"
   ]
  },
  {
   "cell_type": "code",
   "execution_count": 5,
   "metadata": {
    "collapsed": false
   },
   "outputs": [],
   "source": [
    "import pandas as pd"
   ]
  },
  {
   "cell_type": "code",
   "execution_count": 36,
   "metadata": {
    "collapsed": false
   },
   "outputs": [
    {
     "data": {
      "text/html": [
       "<div>\n",
       "<table border=\"1\" class=\"dataframe\">\n",
       "  <thead>\n",
       "    <tr style=\"text-align: right;\">\n",
       "      <th></th>\n",
       "      <th>#OTU ID</th>\n",
       "      <th>TMI3</th>\n",
       "      <th>PN1</th>\n",
       "      <th>PN3</th>\n",
       "      <th>PN2</th>\n",
       "      <th>pcrblank</th>\n",
       "      <th>500M2</th>\n",
       "      <th>500M3</th>\n",
       "      <th>negcontrol1</th>\n",
       "      <th>500M1</th>\n",
       "      <th>...</th>\n",
       "      <th>MRB1</th>\n",
       "      <th>TMI1</th>\n",
       "      <th>740RF3</th>\n",
       "      <th>740RF2</th>\n",
       "      <th>740RF1</th>\n",
       "      <th>TMI2</th>\n",
       "      <th>2KM3</th>\n",
       "      <th>1KM1</th>\n",
       "      <th>2KM1</th>\n",
       "      <th>taxonomy</th>\n",
       "    </tr>\n",
       "  </thead>\n",
       "  <tbody>\n",
       "    <tr>\n",
       "      <th>0</th>\n",
       "      <td>557879642</td>\n",
       "      <td>0</td>\n",
       "      <td>487</td>\n",
       "      <td>0</td>\n",
       "      <td>0</td>\n",
       "      <td>1</td>\n",
       "      <td>0</td>\n",
       "      <td>0</td>\n",
       "      <td>0</td>\n",
       "      <td>1</td>\n",
       "      <td>...</td>\n",
       "      <td>3</td>\n",
       "      <td>0</td>\n",
       "      <td>0</td>\n",
       "      <td>0</td>\n",
       "      <td>1</td>\n",
       "      <td>0</td>\n",
       "      <td>0</td>\n",
       "      <td>0</td>\n",
       "      <td>3234</td>\n",
       "      <td>sc__Actinopterygii; c__Actinopteri; sc__Neopte...</td>\n",
       "    </tr>\n",
       "    <tr>\n",
       "      <th>1</th>\n",
       "      <td>557879642</td>\n",
       "      <td>0</td>\n",
       "      <td>487</td>\n",
       "      <td>0</td>\n",
       "      <td>0</td>\n",
       "      <td>1</td>\n",
       "      <td>0</td>\n",
       "      <td>0</td>\n",
       "      <td>0</td>\n",
       "      <td>1</td>\n",
       "      <td>...</td>\n",
       "      <td>3</td>\n",
       "      <td>0</td>\n",
       "      <td>0</td>\n",
       "      <td>0</td>\n",
       "      <td>1</td>\n",
       "      <td>0</td>\n",
       "      <td>0</td>\n",
       "      <td>0</td>\n",
       "      <td>3234</td>\n",
       "      <td>sc__Actinopterygii; c__Actinopteri; sc__Neopte...</td>\n",
       "    </tr>\n",
       "  </tbody>\n",
       "</table>\n",
       "<p>2 rows × 44 columns</p>\n",
       "</div>"
      ],
      "text/plain": [
       "     #OTU ID  TMI3  PN1  PN3  PN2  pcrblank  500M2  500M3  negcontrol1  500M1  \\\n",
       "0  557879642     0  487    0    0         1      0      0            0      1   \n",
       "1  557879642     0  487    0    0         1      0      0            0      1   \n",
       "\n",
       "                         ...                          MRB1  TMI1  740RF3  \\\n",
       "0                        ...                             3     0       0   \n",
       "1                        ...                             3     0       0   \n",
       "\n",
       "   740RF2  740RF1  TMI2  2KM3  1KM1  2KM1  \\\n",
       "0       0       1     0     0     0  3234   \n",
       "1       0       1     0     0     0  3234   \n",
       "\n",
       "                                            taxonomy  \n",
       "0  sc__Actinopterygii; c__Actinopteri; sc__Neopte...  \n",
       "1  sc__Actinopterygii; c__Actinopteri; sc__Neopte...  \n",
       "\n",
       "[2 rows x 44 columns]"
      ]
     },
     "execution_count": 36,
     "metadata": {},
     "output_type": "execute_result"
    }
   ],
   "source": [
    "alldata=pd.read_csv('test.txt',sep='\\t', header=1)\n",
    "alldata"
   ]
  },
  {
   "cell_type": "code",
   "execution_count": 37,
   "metadata": {
    "collapsed": false
   },
   "outputs": [
    {
     "data": {
      "text/html": [
       "<div>\n",
       "<table border=\"1\" class=\"dataframe\">\n",
       "  <thead>\n",
       "    <tr style=\"text-align: right;\">\n",
       "      <th></th>\n",
       "      <th>#OTU ID</th>\n",
       "      <th>taxonomy</th>\n",
       "    </tr>\n",
       "  </thead>\n",
       "  <tbody>\n",
       "    <tr>\n",
       "      <th>0</th>\n",
       "      <td>557879642</td>\n",
       "      <td>sc__Actinopterygii; c__Actinopteri; sc__Neopte...</td>\n",
       "    </tr>\n",
       "    <tr>\n",
       "      <th>1</th>\n",
       "      <td>557879642</td>\n",
       "      <td>sc__Actinopterygii; c__Actinopteri; sc__Neopte...</td>\n",
       "    </tr>\n",
       "  </tbody>\n",
       "</table>\n",
       "</div>"
      ],
      "text/plain": [
       "     #OTU ID                                           taxonomy\n",
       "0  557879642  sc__Actinopterygii; c__Actinopteri; sc__Neopte...\n",
       "1  557879642  sc__Actinopterygii; c__Actinopteri; sc__Neopte..."
      ]
     },
     "execution_count": 37,
     "metadata": {},
     "output_type": "execute_result"
    }
   ],
   "source": [
    "labels=alldata[['#OTU ID','taxonomy']]\n",
    "labels"
   ]
  },
  {
   "cell_type": "code",
   "execution_count": 38,
   "metadata": {
    "collapsed": false
   },
   "outputs": [
    {
     "data": {
      "text/html": [
       "<div>\n",
       "<table border=\"1\" class=\"dataframe\">\n",
       "  <thead>\n",
       "    <tr style=\"text-align: right;\">\n",
       "      <th></th>\n",
       "      <th>pcrblank</th>\n",
       "      <th>negcontrol1</th>\n",
       "    </tr>\n",
       "  </thead>\n",
       "  <tbody>\n",
       "    <tr>\n",
       "      <th>0</th>\n",
       "      <td>1</td>\n",
       "      <td>0</td>\n",
       "    </tr>\n",
       "    <tr>\n",
       "      <th>1</th>\n",
       "      <td>1</td>\n",
       "      <td>0</td>\n",
       "    </tr>\n",
       "  </tbody>\n",
       "</table>\n",
       "</div>"
      ],
      "text/plain": [
       "   pcrblank  negcontrol1\n",
       "0         1            0\n",
       "1         1            0"
      ]
     },
     "execution_count": 38,
     "metadata": {},
     "output_type": "execute_result"
    }
   ],
   "source": [
    "controls=alldata[['pcrblank','negcontrol1']]\n",
    "controls"
   ]
  },
  {
   "cell_type": "code",
   "execution_count": 39,
   "metadata": {
    "collapsed": false
   },
   "outputs": [
    {
     "data": {
      "text/html": [
       "<div>\n",
       "<table border=\"1\" class=\"dataframe\">\n",
       "  <thead>\n",
       "    <tr style=\"text-align: right;\">\n",
       "      <th></th>\n",
       "      <th>TMI3</th>\n",
       "      <th>PN1</th>\n",
       "      <th>PN3</th>\n",
       "      <th>PN2</th>\n",
       "      <th>500M2</th>\n",
       "      <th>500M3</th>\n",
       "      <th>500M1</th>\n",
       "      <th>340RF3</th>\n",
       "      <th>340RF2</th>\n",
       "      <th>340RF1</th>\n",
       "      <th>...</th>\n",
       "      <th>MRB2</th>\n",
       "      <th>MRB1</th>\n",
       "      <th>TMI1</th>\n",
       "      <th>740RF3</th>\n",
       "      <th>740RF2</th>\n",
       "      <th>740RF1</th>\n",
       "      <th>TMI2</th>\n",
       "      <th>2KM3</th>\n",
       "      <th>1KM1</th>\n",
       "      <th>2KM1</th>\n",
       "    </tr>\n",
       "  </thead>\n",
       "  <tbody>\n",
       "    <tr>\n",
       "      <th>0</th>\n",
       "      <td>0</td>\n",
       "      <td>487</td>\n",
       "      <td>0</td>\n",
       "      <td>0</td>\n",
       "      <td>0</td>\n",
       "      <td>0</td>\n",
       "      <td>1</td>\n",
       "      <td>0</td>\n",
       "      <td>0</td>\n",
       "      <td>0</td>\n",
       "      <td>...</td>\n",
       "      <td>1</td>\n",
       "      <td>3</td>\n",
       "      <td>0</td>\n",
       "      <td>0</td>\n",
       "      <td>0</td>\n",
       "      <td>1</td>\n",
       "      <td>0</td>\n",
       "      <td>0</td>\n",
       "      <td>0</td>\n",
       "      <td>3234</td>\n",
       "    </tr>\n",
       "    <tr>\n",
       "      <th>1</th>\n",
       "      <td>0</td>\n",
       "      <td>487</td>\n",
       "      <td>0</td>\n",
       "      <td>0</td>\n",
       "      <td>0</td>\n",
       "      <td>0</td>\n",
       "      <td>1</td>\n",
       "      <td>0</td>\n",
       "      <td>0</td>\n",
       "      <td>0</td>\n",
       "      <td>...</td>\n",
       "      <td>1</td>\n",
       "      <td>3</td>\n",
       "      <td>0</td>\n",
       "      <td>0</td>\n",
       "      <td>0</td>\n",
       "      <td>1</td>\n",
       "      <td>0</td>\n",
       "      <td>0</td>\n",
       "      <td>0</td>\n",
       "      <td>3234</td>\n",
       "    </tr>\n",
       "  </tbody>\n",
       "</table>\n",
       "<p>2 rows × 40 columns</p>\n",
       "</div>"
      ],
      "text/plain": [
       "   TMI3  PN1  PN3  PN2  500M2  500M3  500M1  340RF3  340RF2  340RF1  ...   \\\n",
       "0     0  487    0    0      0      0      1       0       0       0  ...    \n",
       "1     0  487    0    0      0      0      1       0       0       0  ...    \n",
       "\n",
       "   MRB2  MRB1  TMI1  740RF3  740RF2  740RF1  TMI2  2KM3  1KM1  2KM1  \n",
       "0     1     3     0       0       0       1     0     0     0  3234  \n",
       "1     1     3     0       0       0       1     0     0     0  3234  \n",
       "\n",
       "[2 rows x 40 columns]"
      ]
     },
     "execution_count": 39,
     "metadata": {},
     "output_type": "execute_result"
    }
   ],
   "source": [
    "data=alldata.drop(['#OTU ID','taxonomy','pcrblank','negcontrol1'],axis=1)\n",
    "data"
   ]
  },
  {
   "cell_type": "code",
   "execution_count": 56,
   "metadata": {
    "collapsed": false
   },
   "outputs": [],
   "source": [
    "def decontaminate_column(data_column,control_column):\n",
    "    column = data_column.copy()\n",
    "    column.ix[column <= control_column] = 0\n",
    "    return column"
   ]
  },
  {
   "cell_type": "code",
   "execution_count": 57,
   "metadata": {
    "collapsed": false
   },
   "outputs": [
    {
     "data": {
      "text/plain": [
       "0    0\n",
       "1    0\n",
       "Name: 500M1, dtype: int64"
      ]
     },
     "execution_count": 57,
     "metadata": {},
     "output_type": "execute_result"
    }
   ],
   "source": [
    "decontaminate_column(data['500M1'], controls['pcrblank'])"
   ]
  },
  {
   "cell_type": "code",
   "execution_count": 59,
   "metadata": {
    "collapsed": false
   },
   "outputs": [
    {
     "data": {
      "text/plain": [
       "<function __main__.<lambda>>"
      ]
     },
     "execution_count": 59,
     "metadata": {},
     "output_type": "execute_result"
    }
   ],
   "source": [
    "lambda c: decontaminate_column(c, controls['pcrblank'])"
   ]
  },
  {
   "cell_type": "code",
   "execution_count": 65,
   "metadata": {
    "collapsed": false
   },
   "outputs": [
    {
     "data": {
      "text/html": [
       "<div>\n",
       "<table border=\"1\" class=\"dataframe\">\n",
       "  <thead>\n",
       "    <tr style=\"text-align: right;\">\n",
       "      <th></th>\n",
       "      <th>TMI3</th>\n",
       "      <th>PN1</th>\n",
       "      <th>PN3</th>\n",
       "      <th>PN2</th>\n",
       "      <th>500M2</th>\n",
       "      <th>500M3</th>\n",
       "      <th>500M1</th>\n",
       "      <th>340RF3</th>\n",
       "      <th>340RF2</th>\n",
       "      <th>340RF1</th>\n",
       "      <th>...</th>\n",
       "      <th>MRB2</th>\n",
       "      <th>MRB1</th>\n",
       "      <th>TMI1</th>\n",
       "      <th>740RF3</th>\n",
       "      <th>740RF2</th>\n",
       "      <th>740RF1</th>\n",
       "      <th>TMI2</th>\n",
       "      <th>2KM3</th>\n",
       "      <th>1KM1</th>\n",
       "      <th>2KM1</th>\n",
       "    </tr>\n",
       "  </thead>\n",
       "  <tbody>\n",
       "    <tr>\n",
       "      <th>0</th>\n",
       "      <td>0</td>\n",
       "      <td>487</td>\n",
       "      <td>0</td>\n",
       "      <td>0</td>\n",
       "      <td>0</td>\n",
       "      <td>0</td>\n",
       "      <td>0</td>\n",
       "      <td>0</td>\n",
       "      <td>0</td>\n",
       "      <td>0</td>\n",
       "      <td>...</td>\n",
       "      <td>0</td>\n",
       "      <td>3</td>\n",
       "      <td>0</td>\n",
       "      <td>0</td>\n",
       "      <td>0</td>\n",
       "      <td>0</td>\n",
       "      <td>0</td>\n",
       "      <td>0</td>\n",
       "      <td>0</td>\n",
       "      <td>3234</td>\n",
       "    </tr>\n",
       "    <tr>\n",
       "      <th>1</th>\n",
       "      <td>0</td>\n",
       "      <td>487</td>\n",
       "      <td>0</td>\n",
       "      <td>0</td>\n",
       "      <td>0</td>\n",
       "      <td>0</td>\n",
       "      <td>0</td>\n",
       "      <td>0</td>\n",
       "      <td>0</td>\n",
       "      <td>0</td>\n",
       "      <td>...</td>\n",
       "      <td>0</td>\n",
       "      <td>3</td>\n",
       "      <td>0</td>\n",
       "      <td>0</td>\n",
       "      <td>0</td>\n",
       "      <td>0</td>\n",
       "      <td>0</td>\n",
       "      <td>0</td>\n",
       "      <td>0</td>\n",
       "      <td>3234</td>\n",
       "    </tr>\n",
       "  </tbody>\n",
       "</table>\n",
       "<p>2 rows × 40 columns</p>\n",
       "</div>"
      ],
      "text/plain": [
       "   TMI3  PN1  PN3  PN2  500M2  500M3  500M1  340RF3  340RF2  340RF1  ...   \\\n",
       "0     0  487    0    0      0      0      0       0       0       0  ...    \n",
       "1     0  487    0    0      0      0      0       0       0       0  ...    \n",
       "\n",
       "   MRB2  MRB1  TMI1  740RF3  740RF2  740RF1  TMI2  2KM3  1KM1  2KM1  \n",
       "0     0     3     0       0       0       0     0     0     0  3234  \n",
       "1     0     3     0       0       0       0     0     0     0  3234  \n",
       "\n",
       "[2 rows x 40 columns]"
      ]
     },
     "execution_count": 65,
     "metadata": {},
     "output_type": "execute_result"
    }
   ],
   "source": [
    "data=data.apply(lambda c: decontaminate_column(c, controls['pcrblank']), axis=0)\n",
    "data"
   ]
  },
  {
   "cell_type": "code",
   "execution_count": 66,
   "metadata": {
    "collapsed": false
   },
   "outputs": [
    {
     "data": {
      "text/html": [
       "<div>\n",
       "<table border=\"1\" class=\"dataframe\">\n",
       "  <thead>\n",
       "    <tr style=\"text-align: right;\">\n",
       "      <th></th>\n",
       "      <th>TMI3</th>\n",
       "      <th>PN1</th>\n",
       "      <th>PN3</th>\n",
       "      <th>PN2</th>\n",
       "      <th>500M2</th>\n",
       "      <th>500M3</th>\n",
       "      <th>500M1</th>\n",
       "      <th>340RF3</th>\n",
       "      <th>340RF2</th>\n",
       "      <th>340RF1</th>\n",
       "      <th>...</th>\n",
       "      <th>MRB2</th>\n",
       "      <th>MRB1</th>\n",
       "      <th>TMI1</th>\n",
       "      <th>740RF3</th>\n",
       "      <th>740RF2</th>\n",
       "      <th>740RF1</th>\n",
       "      <th>TMI2</th>\n",
       "      <th>2KM3</th>\n",
       "      <th>1KM1</th>\n",
       "      <th>2KM1</th>\n",
       "    </tr>\n",
       "  </thead>\n",
       "  <tbody>\n",
       "    <tr>\n",
       "      <th>0</th>\n",
       "      <td>0</td>\n",
       "      <td>487</td>\n",
       "      <td>0</td>\n",
       "      <td>0</td>\n",
       "      <td>0</td>\n",
       "      <td>0</td>\n",
       "      <td>0</td>\n",
       "      <td>0</td>\n",
       "      <td>0</td>\n",
       "      <td>0</td>\n",
       "      <td>...</td>\n",
       "      <td>0</td>\n",
       "      <td>3</td>\n",
       "      <td>0</td>\n",
       "      <td>0</td>\n",
       "      <td>0</td>\n",
       "      <td>0</td>\n",
       "      <td>0</td>\n",
       "      <td>0</td>\n",
       "      <td>0</td>\n",
       "      <td>3234</td>\n",
       "    </tr>\n",
       "    <tr>\n",
       "      <th>1</th>\n",
       "      <td>0</td>\n",
       "      <td>487</td>\n",
       "      <td>0</td>\n",
       "      <td>0</td>\n",
       "      <td>0</td>\n",
       "      <td>0</td>\n",
       "      <td>0</td>\n",
       "      <td>0</td>\n",
       "      <td>0</td>\n",
       "      <td>0</td>\n",
       "      <td>...</td>\n",
       "      <td>0</td>\n",
       "      <td>3</td>\n",
       "      <td>0</td>\n",
       "      <td>0</td>\n",
       "      <td>0</td>\n",
       "      <td>0</td>\n",
       "      <td>0</td>\n",
       "      <td>0</td>\n",
       "      <td>0</td>\n",
       "      <td>3234</td>\n",
       "    </tr>\n",
       "  </tbody>\n",
       "</table>\n",
       "<p>2 rows × 40 columns</p>\n",
       "</div>"
      ],
      "text/plain": [
       "   TMI3  PN1  PN3  PN2  500M2  500M3  500M1  340RF3  340RF2  340RF1  ...   \\\n",
       "0     0  487    0    0      0      0      0       0       0       0  ...    \n",
       "1     0  487    0    0      0      0      0       0       0       0  ...    \n",
       "\n",
       "   MRB2  MRB1  TMI1  740RF3  740RF2  740RF1  TMI2  2KM3  1KM1  2KM1  \n",
       "0     0     3     0       0       0       0     0     0     0  3234  \n",
       "1     0     3     0       0       0       0     0     0     0  3234  \n",
       "\n",
       "[2 rows x 40 columns]"
      ]
     },
     "execution_count": 66,
     "metadata": {},
     "output_type": "execute_result"
    }
   ],
   "source": [
    "data=data.apply(lambda c: decontaminate_column(c, controls['negcontrol1']), axis=0)\n",
    "data"
   ]
  },
  {
   "cell_type": "code",
   "execution_count": 70,
   "metadata": {
    "collapsed": false
   },
   "outputs": [
    {
     "data": {
      "text/plain": [
       "['pcrblank', 'negcontrol1']"
      ]
     },
     "execution_count": 70,
     "metadata": {},
     "output_type": "execute_result"
    }
   ],
   "source": [
    "controls.columns.values.tolist()"
   ]
  },
  {
   "cell_type": "code",
   "execution_count": 80,
   "metadata": {
    "collapsed": false
   },
   "outputs": [],
   "source": [
    "def decontaminate(dataframe,control):\n",
    "    for control_name in control.columns.values.tolist():\n",
    "        print(control_name)\n",
    "        dataframe=dataframe.apply(lambda c: decontaminate_column(c, control[control_name]), axis=0)\n",
    "    return dataframe"
   ]
  },
  {
   "cell_type": "code",
   "execution_count": 81,
   "metadata": {
    "collapsed": false
   },
   "outputs": [
    {
     "name": "stdout",
     "output_type": "stream",
     "text": [
      "pcrblank\n",
      "negcontrol1\n"
     ]
    },
    {
     "data": {
      "text/html": [
       "<div>\n",
       "<table border=\"1\" class=\"dataframe\">\n",
       "  <thead>\n",
       "    <tr style=\"text-align: right;\">\n",
       "      <th></th>\n",
       "      <th>TMI3</th>\n",
       "      <th>PN1</th>\n",
       "      <th>PN3</th>\n",
       "      <th>PN2</th>\n",
       "      <th>500M2</th>\n",
       "      <th>500M3</th>\n",
       "      <th>500M1</th>\n",
       "      <th>340RF3</th>\n",
       "      <th>340RF2</th>\n",
       "      <th>340RF1</th>\n",
       "      <th>...</th>\n",
       "      <th>MRB2</th>\n",
       "      <th>MRB1</th>\n",
       "      <th>TMI1</th>\n",
       "      <th>740RF3</th>\n",
       "      <th>740RF2</th>\n",
       "      <th>740RF1</th>\n",
       "      <th>TMI2</th>\n",
       "      <th>2KM3</th>\n",
       "      <th>1KM1</th>\n",
       "      <th>2KM1</th>\n",
       "    </tr>\n",
       "  </thead>\n",
       "  <tbody>\n",
       "    <tr>\n",
       "      <th>0</th>\n",
       "      <td>0</td>\n",
       "      <td>487</td>\n",
       "      <td>0</td>\n",
       "      <td>0</td>\n",
       "      <td>0</td>\n",
       "      <td>0</td>\n",
       "      <td>0</td>\n",
       "      <td>0</td>\n",
       "      <td>0</td>\n",
       "      <td>0</td>\n",
       "      <td>...</td>\n",
       "      <td>0</td>\n",
       "      <td>3</td>\n",
       "      <td>0</td>\n",
       "      <td>0</td>\n",
       "      <td>0</td>\n",
       "      <td>0</td>\n",
       "      <td>0</td>\n",
       "      <td>0</td>\n",
       "      <td>0</td>\n",
       "      <td>3234</td>\n",
       "    </tr>\n",
       "    <tr>\n",
       "      <th>1</th>\n",
       "      <td>0</td>\n",
       "      <td>487</td>\n",
       "      <td>0</td>\n",
       "      <td>0</td>\n",
       "      <td>0</td>\n",
       "      <td>0</td>\n",
       "      <td>0</td>\n",
       "      <td>0</td>\n",
       "      <td>0</td>\n",
       "      <td>0</td>\n",
       "      <td>...</td>\n",
       "      <td>0</td>\n",
       "      <td>3</td>\n",
       "      <td>0</td>\n",
       "      <td>0</td>\n",
       "      <td>0</td>\n",
       "      <td>0</td>\n",
       "      <td>0</td>\n",
       "      <td>0</td>\n",
       "      <td>0</td>\n",
       "      <td>3234</td>\n",
       "    </tr>\n",
       "  </tbody>\n",
       "</table>\n",
       "<p>2 rows × 40 columns</p>\n",
       "</div>"
      ],
      "text/plain": [
       "   TMI3  PN1  PN3  PN2  500M2  500M3  500M1  340RF3  340RF2  340RF1  ...   \\\n",
       "0     0  487    0    0      0      0      0       0       0       0  ...    \n",
       "1     0  487    0    0      0      0      0       0       0       0  ...    \n",
       "\n",
       "   MRB2  MRB1  TMI1  740RF3  740RF2  740RF1  TMI2  2KM3  1KM1  2KM1  \n",
       "0     0     3     0       0       0       0     0     0     0  3234  \n",
       "1     0     3     0       0       0       0     0     0     0  3234  \n",
       "\n",
       "[2 rows x 40 columns]"
      ]
     },
     "execution_count": 81,
     "metadata": {},
     "output_type": "execute_result"
    }
   ],
   "source": [
    "decontaminate(data,controls)"
   ]
  },
  {
   "cell_type": "code",
   "execution_count": 83,
   "metadata": {
    "collapsed": false
   },
   "outputs": [
    {
     "name": "stdout",
     "output_type": "stream",
     "text": [
      "pcrblank\n",
      "negcontrol1\n"
     ]
    }
   ],
   "source": [
    "alldata=pd.read_csv('otu_table_mc2_w_tax__Project_Moorea__renamed_text.txt',sep='\\t', header=1)\n",
    "labels=alldata[['#OTU ID','taxonomy']]\n",
    "controls=alldata[['pcrblank','negcontrol1']]\n",
    "data=alldata.drop(['#OTU ID','taxonomy','pcrblank','negcontrol1'],axis=1)\n",
    "def decontaminate_column(data_column,control_column):\n",
    "    column = data_column.copy()\n",
    "    column.ix[column <= control_column] = 0\n",
    "    return column\n",
    "\n",
    "def decontaminate(dataframe,control):\n",
    "    for control_name in control.columns.values.tolist():\n",
    "        print(control_name)\n",
    "        dataframe=dataframe.apply(lambda c: decontaminate_column(c, control[control_name]), axis=0)\n",
    "    return dataframe\n",
    "data=decontaminate(data,controls)"
   ]
  },
  {
   "cell_type": "code",
   "execution_count": 96,
   "metadata": {
    "collapsed": false
   },
   "outputs": [],
   "source": [
    "cleaned_otu_table = pd.concat([labels['#OTU ID'],controls,data,labels['taxonomy']],axis=1)\n"
   ]
  },
  {
   "cell_type": "code",
   "execution_count": 107,
   "metadata": {
    "collapsed": false
   },
   "outputs": [
    {
     "name": "stdout",
     "output_type": "stream",
     "text": [
      "# Constructed from biom file\n"
     ]
    }
   ],
   "source": [
    "with open('otu_table_mc2_w_tax__Project_Moorea__renamed_text.txt', 'r') as f:\n",
    "    comment=f.readline()\n",
    "    print(comment.strip())"
   ]
  },
  {
   "cell_type": "code",
   "execution_count": 108,
   "metadata": {
    "collapsed": true
   },
   "outputs": [],
   "source": [
    "with open('cleaned_otu_table.csv', 'w') as f:\n",
    "    f.write(comment)"
   ]
  },
  {
   "cell_type": "code",
   "execution_count": 109,
   "metadata": {
    "collapsed": true
   },
   "outputs": [],
   "source": [
    "cleaned_otu_table.to_csv('cleaned_otu_table.csv', sep='\\t', mode='a',index=False)"
   ]
  },
  {
   "cell_type": "code",
   "execution_count": null,
   "metadata": {
    "collapsed": true
   },
   "outputs": [],
   "source": []
  }
 ],
 "metadata": {
  "anaconda-cloud": {},
  "kernelspec": {
   "display_name": "Python [conda root]",
   "language": "python",
   "name": "conda-root-py"
  },
  "language_info": {
   "codemirror_mode": {
    "name": "ipython",
    "version": 3
   },
   "file_extension": ".py",
   "mimetype": "text/x-python",
   "name": "python",
   "nbconvert_exporter": "python",
   "pygments_lexer": "ipython3",
   "version": "3.5.2"
  }
 },
 "nbformat": 4,
 "nbformat_minor": 2
}
