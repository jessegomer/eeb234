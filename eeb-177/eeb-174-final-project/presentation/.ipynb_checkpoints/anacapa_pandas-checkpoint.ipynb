{
 "cells": [
  {
   "cell_type": "code",
   "execution_count": 5,
   "metadata": {
    "collapsed": false
   },
   "outputs": [],
   "source": [
    "import numpy\n",
    "import pandas as pd\n",
    "\n",
    "\n",
    "# import tsv file\n",
    "alldata=pd.read_csv('inclass_ex.txt',sep='\\t', header=1)\n",
    "\n",
    "# seperate and label columns\n",
    "labels=alldata[['#OTU ID','taxonomy']]\n",
    "controls=alldata[['pcrblank','negcontrol1']]\n",
    "data=alldata.drop(['#OTU ID','taxonomy','pcrblank','negcontrol1'],axis=1)\n",
    "\n",
    "\n",
    "#function to remove contamination threshold\n",
    "def decontaminate_column(data_column,control_column):\n",
    "    column = data_column.copy()\n",
    "    column.ix[column <= control_column] = 0\n",
    "    return column\n",
    "\n",
    "#function to iterate decontaminate_column across all samples\n",
    "def decontaminate(dataframe,control):\n",
    "    for control_name in control.columns.values.tolist():\n",
    "        dataframe=dataframe.apply(lambda c: decontaminate_column(c, control[control_name]), axis=0)\n",
    "    return dataframe\n",
    "data=decontaminate(data,controls)\n",
    "\n",
    "# Output cleaned BIOM table\n",
    "cleaned_otu_table = pd.concat([labels['#OTU ID'],controls,data,labels['taxonomy']],axis=1)\n",
    "with open('otu_table_mc2_w_tax__Project_Moorea__renamed_text.txt', 'r') as f:\n",
    "    comment=f.readline()\n",
    "with open('cleaned_otu_table.csv', 'w') as f:\n",
    "    f.write(comment)\n",
    "cleaned_otu_table.to_csv('cleaned_otu_table.csv', sep='\\t', mode='a',index=False)"
   ]
  },
  {
   "cell_type": "code",
   "execution_count": null,
   "metadata": {
    "collapsed": true
   },
   "outputs": [],
   "source": []
  }
 ],
 "metadata": {
  "anaconda-cloud": {},
  "kernelspec": {
   "display_name": "Python [conda root]",
   "language": "python",
   "name": "conda-root-py"
  },
  "language_info": {
   "codemirror_mode": {
    "name": "ipython",
    "version": 3
   },
   "file_extension": ".py",
   "mimetype": "text/x-python",
   "name": "python",
   "nbconvert_exporter": "python",
   "pygments_lexer": "ipython3",
   "version": "3.5.2"
  }
 },
 "nbformat": 4,
 "nbformat_minor": 2
}
