{
 "cells": [
  {
   "cell_type": "code",
   "execution_count": 2,
   "metadata": {
    "collapsed": false
   },
   "outputs": [
    {
     "name": "stdout",
     "output_type": "stream",
     "text": [
      "AT content is 0.6851851851851852\n"
     ]
    }
   ],
   "source": [
    "#AT Content\n",
    "\n",
    "from __future__ import division\n",
    "dna_string='ACTGATCGATTACGTATAGTATTTGCTATCATACATATATATCGATGCGTTCAT'\n",
    "\n",
    "acount = dna_string.count('A')\n",
    "tcount = dna_string.count('T')\n",
    "dna_length = len(dna_string)\n",
    "at_content = (acount + tcount) / dna_length\n",
    "print(\"AT content is \" + str(at_content))"
   ]
  },
  {
   "cell_type": "code",
   "execution_count": 4,
   "metadata": {
    "collapsed": false
   },
   "outputs": [
    {
     "data": {
      "text/plain": [
       "'TGACTAGCTAATGCATATCATAAACGATAGTATGTATATATAGCTACGCAAGTA'"
      ]
     },
     "execution_count": 4,
     "metadata": {},
     "output_type": "execute_result"
    }
   ],
   "source": [
    "#Complimentary DNA\n",
    "dna_string2='ACTGATCGATTACGTATAGTATTTGCTATCATACATATATATCGATGCGTTCAT'\n",
    "comp25= dna_string2.replace('A','t')\n",
    "comp50= comp25.replace('T','a')\n",
    "comp75= comp50.replace('G','c')\n",
    "comp100= comp75.replace('C','g')\n",
    "complimentary_dna=comp100.upper()\n",
    "complimentary_dna"
   ]
  },
  {
   "cell_type": "code",
   "execution_count": 5,
   "metadata": {
    "collapsed": false
   },
   "outputs": [
    {
     "name": "stdout",
     "output_type": "stream",
     "text": [
      "Fragment length 1: 23 Fragment length 2: 32\n"
     ]
    }
   ],
   "source": [
    "#Restriction Fragment Lengths\n",
    "dna_string3='ACTGATCGATTACGTATAGTAGAATTCTATCATACATATATATCGATGCGTTCAT'\n",
    "\n",
    "dna_3_len= len(dna_string3)\n",
    "len_frag1=dna_string3.find('AATTC')+1\n",
    "len_frag2=dna_3_len - len_frag1\n",
    "print(\"Fragment length 1: \" + str(len_frag1) + \" Fragment length 2: \" + str(len_frag2))"
   ]
  },
  {
   "cell_type": "code",
   "execution_count": 6,
   "metadata": {
    "collapsed": false
   },
   "outputs": [
    {
     "data": {
      "text/plain": [
       "'Exon 1:ATCGATCGATCGATCGACTGACTAGTCATAGCTATGCATGTAGCTACTCGATCGATCGATCG  Exon 2:ATCATCGATCGATATCGATGCATCGACTACTAT'"
      ]
     },
     "execution_count": 6,
     "metadata": {},
     "output_type": "execute_result"
    }
   ],
   "source": [
    "#Splicing Out introns\n",
    "\n",
    "dna_string4='ATCGATCGATCGATCGACTGACTAGTCATAGCTATGCATGTAGCTACTCGATCGATCGATCGATCGATCGATCGATCGATCGATCATGCTATCATCGATCGATATCGATGCATCGACTACTAT'\n",
    "coding_regions= \"Exon 1:\" + dna_string4[0:62] + \"  Exon 2:\" + dna_string4[90:1000]\n",
    "coding_regions"
   ]
  },
  {
   "cell_type": "code",
   "execution_count": 7,
   "metadata": {
    "collapsed": false
   },
   "outputs": [
    {
     "data": {
      "text/plain": [
       "'ATCGATCGATCGATCGACTGACTAGTCATAGCTATGCATGTAGCTACTCGATCGATCGATCGatcgatcgatcgatcgatcgatcatgctATCATCGATCGATATCGATGCATCGACTACTAT'"
      ]
     },
     "execution_count": 7,
     "metadata": {},
     "output_type": "execute_result"
    }
   ],
   "source": [
    "#Splicing out introns P3\n",
    "\n",
    "exon1= dna_string4[0:62]\n",
    "exon2= dna_string4[90:1000]\n",
    "intron= dna_string4[62:90]\n",
    "labled_dna_string4 = exon1 + intron.lower() + exon2\n",
    "labled_dna_string4"
   ]
  },
  {
   "cell_type": "code",
   "execution_count": null,
   "metadata": {
    "collapsed": true
   },
   "outputs": [],
   "source": []
  }
 ],
 "metadata": {
  "anaconda-cloud": {},
  "kernelspec": {
   "display_name": "Python [conda root]",
   "language": "python",
   "name": "conda-root-py"
  },
  "language_info": {
   "codemirror_mode": {
    "name": "ipython",
    "version": 3
   },
   "file_extension": ".py",
   "mimetype": "text/x-python",
   "name": "python",
   "nbconvert_exporter": "python",
   "pygments_lexer": "ipython3",
   "version": "3.5.2"
  }
 },
 "nbformat": 4,
 "nbformat_minor": 2
}
