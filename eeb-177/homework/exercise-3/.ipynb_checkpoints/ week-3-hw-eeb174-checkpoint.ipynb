{
 "cells": [
  {
   "cell_type": "code",
   "execution_count": 2,
   "metadata": {
    "collapsed": false
   },
   "outputs": [
    {
     "name": "stdout",
     "output_type": "stream",
     "text": [
      "AT content is 0.6851851851851852\n"
     ]
    }
   ],
   "source": [
    "#AT Content\n",
    "\n",
    "from __future__ import division\n",
    "dna_string='ACTGATCGATTACGTATAGTATTTGCTATCATACATATATATCGATGCGTTCAT'\n",
    "\n",
    "acount = dna_string.count('A')\n",
    "tcount = dna_string.count('T')\n",
    "dna_length = len(dna_string)\n",
    "at_content = (acount + tcount) / dna_length\n",
    "print(\"AT content is \" + str(at_content))"
   ]
  },
  {
   "cell_type": "code",
   "execution_count": 4,
   "metadata": {
    "collapsed": false
   },
   "outputs": [
    {
     "data": {
      "text/plain": [
       "'TGACTAGCTAATGCATATCATAAACGATAGTATGTATATATAGCTACGCAAGTA'"
      ]
     },
     "execution_count": 4,
     "metadata": {},
     "output_type": "execute_result"
    }
   ],
   "source": [
    "#Complimentary DNA\n",
    "dna_string2='ACTGATCGATTACGTATAGTATTTGCTATCATACATATATATCGATGCGTTCAT'\n",
    "comp25= dna_string2.replace('A','t')\n",
    "comp50= comp25.replace('T','a')\n",
    "comp75= comp50.replace('G','c')\n",
    "comp100= comp75.replace('C','g')\n",
    "complimentary_dna=comp100.upper()\n",
    "complimentary_dna"
   ]
  },
  {
   "cell_type": "code",
   "execution_count": 5,
   "metadata": {
    "collapsed": false
   },
   "outputs": [
    {
     "name": "stdout",
     "output_type": "stream",
     "text": [
      "Fragment length 1: 23 Fragment length 2: 32\n"
     ]
    }
   ],
   "source": [
    "#Restriction Fragment Lengths\n",
    "dna_string3='ACTGATCGATTACGTATAGTAGAATTCTATCATACATATATATCGATGCGTTCAT'\n",
    "\n",
    "dna_3_len= len(dna_string3)\n",
    "len_frag1=dna_string3.find('AATTC')+1\n",
    "len_frag2=dna_3_len - len_frag1\n",
    "print(\"Fragment length 1: \" + str(len_frag1) + \" Fragment length 2: \" + str(len_frag2))"
   ]
  },
  {
   "cell_type": "code",
   "execution_count": 6,
   "metadata": {
    "collapsed": false
   },
   "outputs": [
    {
     "data": {
      "text/plain": [
       "'Exon 1:ATCGATCGATCGATCGACTGACTAGTCATAGCTATGCATGTAGCTACTCGATCGATCGATCG  Exon 2:ATCATCGATCGATATCGATGCATCGACTACTAT'"
      ]
     },
     "execution_count": 6,
     "metadata": {},
     "output_type": "execute_result"
    }
   ],
   "source": [
    "#Splicing Out introns\n",
    "\n",
    "dna_string4='ATCGATCGATCGATCGACTGACTAGTCATAGCTATGCATGTAGCTACTCGATCGATCGATCGATCGATCGATCGATCGATCGATCATGCTATCATCGATCGATATCGATGCATCGACTACTAT'\n",
    "coding_regions= \"Exon 1:\" + dna_string4[0:62] + \"  Exon 2:\" + dna_string4[90:1000]\n",
    "coding_regions"
   ]
  },
  {
   "cell_type": "code",
   "execution_count": 7,
   "metadata": {
    "collapsed": false
   },
   "outputs": [
    {
     "data": {
      "text/plain": [
       "'ATCGATCGATCGATCGACTGACTAGTCATAGCTATGCATGTAGCTACTCGATCGATCGATCGatcgatcgatcgatcgatcgatcatgctATCATCGATCGATATCGATGCATCGACTACTAT'"
      ]
     },
     "execution_count": 7,
     "metadata": {},
     "output_type": "execute_result"
    }
   ],
   "source": [
    "#Splicing out introns P3\n",
    "\n",
    "exon1= dna_string4[0:62]\n",
    "exon2= dna_string4[90:1000]\n",
    "intron= dna_string4[62:90]\n",
    "labled_dna_string4 = exon1 + intron.lower() + exon2\n",
    "labled_dna_string4"
   ]
  },
  {
   "cell_type": "code",
   "execution_count": 2,
   "metadata": {
    "collapsed": false
   },
   "outputs": [
    {
     "name": "stdout",
     "output_type": "stream",
     "text": [
      "weight in kilograms is now: 57.5\n"
     ]
    },
    {
     "data": {
      "text/plain": [
       "'xyge'"
      ]
     },
     "execution_count": 2,
     "metadata": {},
     "output_type": "execute_result"
    }
   ],
   "source": [
    "#Check Understanding\n",
    "weight_kg = 57.5\n",
    "print('weight in kilograms is now:', weight_kg)\n",
    "\n",
    "mass = 47.5\n",
    "age = 122\n",
    "mass = mass * 2.0\n",
    "mass\n",
    "age = age - 20\n",
    "age\n",
    "\n",
    "#Mass variable is doubled\n",
    "#Age is 20 less than original\n",
    "\n",
    "#Sorting Out Variables\n",
    "#Hopper, Grace\n",
    "\n",
    "#Slicing Strings\n",
    "element ='oxygen'\n",
    "\n",
    "\n",
    "element[:]\n",
    "element[4:]\n",
    "\n",
    "#oxyg\n",
    "#en\n",
    "#oxygen\n",
    "\n",
    "\n",
    "element [-1]\n",
    "element[-2]\n",
    "#n\n",
    "#e\n",
    "\n",
    "element[1:-1]\n",
    "#xyge, it starts from the second index and goes to the second to last\n",
    "\n",
    "#Thin Slices\n",
    "# two empty strinbgs\n",
    "\n",
    "#Plot Scaling\n",
    "\n",
    "#The plots stop short becuase matplot has a built in function to set the x and y lim on the data\n",
    "\n",
    "# Using numpy\n",
    "# minimum_data = numpy.min(data, axis =0)\n",
    "# axes3.set_ylabel('min')\n",
    "#axes3.plot(minimum_data)\n",
    "#axes3.set_ylim(numpy.min(minimum_data), numpy.max(min_data *1.5))"
   ]
  },
  {
   "cell_type": "code",
   "execution_count": 3,
   "metadata": {
    "collapsed": true
   },
   "outputs": [],
   "source": [
    "import numpy"
   ]
  },
  {
   "cell_type": "code",
   "execution_count": null,
   "metadata": {
    "collapsed": true
   },
   "outputs": [],
   "source": []
  },
  {
   "cell_type": "code",
   "execution_count": 4,
   "metadata": {
    "collapsed": false
   },
   "outputs": [
    {
     "name": "stderr",
     "output_type": "stream",
     "text": [
      "/home/eeb177-student/miniconda3/lib/python3.5/site-packages/matplotlib/font_manager.py:280: UserWarning: Matplotlib is building the font cache using fc-list. This may take a moment.\n",
      "  'Matplotlib is building the font cache using fc-list. '\n"
     ]
    }
   ],
   "source": [
    "import matplotlib.pyplot\n"
   ]
  },
  {
   "cell_type": "code",
   "execution_count": 7,
   "metadata": {
    "collapsed": false
   },
   "outputs": [],
   "source": [
    "data = numpy.loadtxt(fname='data/inflammation-01.csv', delimiter=',')"
   ]
  },
  {
   "cell_type": "code",
   "execution_count": 12,
   "metadata": {
    "collapsed": false
   },
   "outputs": [
    {
     "data": {
      "text/plain": [
       "array([], shape=(0, 40), dtype=float64)"
      ]
     },
     "execution_count": 12,
     "metadata": {},
     "output_type": "execute_result"
    }
   ],
   "source": [
    "data[3:3,:]"
   ]
  },
  {
   "cell_type": "code",
   "execution_count": 8,
   "metadata": {
    "collapsed": true
   },
   "outputs": [],
   "source": [
    "fig = matplotlib.pyplot.figure(figsize=(10.0, 3.0))\n"
   ]
  },
  {
   "cell_type": "code",
   "execution_count": 9,
   "metadata": {
    "collapsed": false
   },
   "outputs": [
    {
     "data": {
      "image/png": "[encoded data removed]",
      "text/plain": [
       "<matplotlib.figure.Figure at 0x7f04a4b8fb38>"
      ]
     },
     "metadata": {},
     "output_type": "display_data"
    }
   ],
   "source": [
    "axes1 = fig.add_subplot(1, 3, 1)\n",
    "axes2 = fig.add_subplot(1, 3, 2)\n",
    "axes3 = fig.add_subplot(1, 3, 3)\n",
    "\n",
    "axes1.set_ylabel('average')\n",
    "axes1.plot(numpy.mean(data, axis=0), drawstyle='steps-mid')\n",
    "\n",
    "axes2.set_ylabel('max')\n",
    "axes2.plot(numpy.max(data, axis=0), drawstyle='steps-mid')\n",
    "\n",
    "axes3.set_ylabel('min')\n",
    "axes3.plot(numpy.min(data, axis=0), drawstyle='steps-mid')\n",
    "\n",
    "fig.tight_layout()\n",
    "\n",
    "matplotlib.pyplot.show()"
   ]
  },
  {
   "cell_type": "code",
   "execution_count": 10,
   "metadata": {
    "collapsed": false
   },
   "outputs": [
    {
     "data": {
      "image/png": "[encoded data removed]",
      "text/plain": [
       "<matplotlib.figure.Figure at 0x7f04a4b8f780>"
      ]
     },
     "metadata": {},
     "output_type": "display_data"
    }
   ],
   "source": [
    "std_plot1 = matplotlib.pyplot.plot(numpy.std(data, axis=0))\n",
    "matplotlib.pyplot.show()"
   ]
  },
  {
   "cell_type": "code",
   "execution_count": 14,
   "metadata": {
    "collapsed": false
   },
   "outputs": [
    {
     "data": {
      "image/png": "[encoded data removed]",
      "text/plain": [
       "<matplotlib.figure.Figure at 0x7f04a2c7b4e0>"
      ]
     },
     "metadata": {},
     "output_type": "display_data"
    }
   ],
   "source": [
    "import numpy\n",
    "import matplotlib.pyplot\n",
    "\n",
    "data = numpy.loadtxt(fname='data/inflammation-01.csv', delimiter=',')\n",
    "\n",
    "fig = matplotlib.pyplot.figure(figsize=(5.0, 10.0))\n",
    "\n",
    "axes1 = fig.add_subplot(3, 1, 1)\n",
    "axes2 = fig.add_subplot(3, 1, 2)\n",
    "axes3 = fig.add_subplot(3, 1, 3)\n",
    "\n",
    "axes1.set_ylabel('average')\n",
    "axes1.plot(numpy.mean(data, axis=0))\n",
    "\n",
    "axes2.set_ylabel('max')\n",
    "axes2.plot(numpy.max(data, axis=0))\n",
    "\n",
    "axes3.set_ylabel('min')\n",
    "axes3.plot(numpy.min(data, axis=0))\n",
    "\n",
    "fig.tight_layout()\n",
    "\n",
    "matplotlib.pyplot.show()"
   ]
  },
  {
   "cell_type": "code",
   "execution_count": 15,
   "metadata": {
    "collapsed": false
   },
   "outputs": [
    {
     "name": "stdout",
     "output_type": "stream",
     "text": [
      "A = \n",
      "[[1 2 3]\n",
      " [4 5 6]\n",
      " [7 8 9]]\n",
      "B = \n",
      "[[1 2 3 1 2 3]\n",
      " [4 5 6 4 5 6]\n",
      " [7 8 9 7 8 9]]\n",
      "C = \n",
      "[[1 2 3]\n",
      " [4 5 6]\n",
      " [7 8 9]\n",
      " [1 2 3]\n",
      " [4 5 6]\n",
      " [7 8 9]]\n"
     ]
    }
   ],
   "source": [
    "import numpy\n",
    "\n",
    "A = numpy.array([[1,2,3], [4,5,6], [7, 8, 9]])\n",
    "print('A = ')\n",
    "print(A)\n",
    "\n",
    "B = numpy.hstack([A, A])\n",
    "print('B = ')\n",
    "print(B)\n",
    "\n",
    "C = numpy.vstack([A, A])\n",
    "print('C = ')\n",
    "print(C)"
   ]
  },
  {
   "cell_type": "code",
   "execution_count": 16,
   "metadata": {
    "collapsed": false
   },
   "outputs": [
    {
     "name": "stdout",
     "output_type": "stream",
     "text": [
      "answer = \n",
      "[[1 3]\n",
      " [4 6]\n",
      " [7 9]]\n"
     ]
    }
   ],
   "source": [
    "answer = numpy.hstack((A[:, :1], A[:, -1:]))\n",
    "print('answer = ')\n",
    "print(answer)"
   ]
  },
  {
   "cell_type": "code",
   "execution_count": null,
   "metadata": {
    "collapsed": true
   },
   "outputs": [],
   "source": []
  }
 ],
 "metadata": {
  "anaconda-cloud": {},
  "kernelspec": {
   "display_name": "Python [conda root]",
   "language": "python",
   "name": "conda-root-py"
  },
  "language_info": {
   "codemirror_mode": {
    "name": "ipython",
    "version": 3
   },
   "file_extension": ".py",
   "mimetype": "text/x-python",
   "name": "python",
   "nbconvert_exporter": "python",
   "pygments_lexer": "ipython3",
   "version": "3.5.2"
  }
 },
 "nbformat": 4,
 "nbformat_minor": 2
}
