{
 "cells": [
  {
   "cell_type": "markdown",
   "metadata": {},
   "source": [
    "# Psuedo Code\n",
    "\n",
    "Create a function dna_translate with input dna_string\n",
    "create a dictionary with keys: amino acids and values: base pair matches\n",
    "create codons from dna_string using for loop\n",
    "match codons value to keys\n",
    "print string of keys"
   ]
  },
  {
   "cell_type": "code",
   "execution_count": 31,
   "metadata": {
    "collapsed": false
   },
   "outputs": [],
   "source": [
    "protein_dict = {\n",
    "'ATA':'I', 'ATC':'I', 'ATT':'I', 'ATG':'M',\n",
    "'ACA':'T', 'ACC':'T', 'ACG':'T', 'ACT':'T',\n",
    "'AAC':'N', 'AAT':'N', 'AAA':'K', 'AAG':'K',\n",
    "'AGC':'S', 'AGT':'S', 'AGA':'R', 'AGG':'R',\n",
    "'CTA':'L', 'CTC':'L', 'CTG':'L', 'CTT':'L',\n",
    "'CCA':'P', 'CCC':'P', 'CCG':'P', 'CCT':'P',\n",
    "'CAC':'H', 'CAT':'H', 'CAA':'Q', 'CAG':'Q',\n",
    "'CGA':'R', 'CGC':'R', 'CGG':'R', 'CGT':'R',\n",
    "'GTA':'V', 'GTC':'V', 'GTG':'V', 'GTT':'V',\n",
    "'GCA':'A', 'GCC':'A', 'GCG':'A', 'GCT':'A',\n",
    "'GAC':'D', 'GAT':'D', 'GAA':'E', 'GAG':'E',\n",
    "'GGA':'G', 'GGC':'G', 'GGG':'G', 'GGT':'G',\n",
    "'TCA':'S', 'TCC':'S', 'TCG':'S', 'TCT':'S',\n",
    "'TTC':'F', 'TTT':'F', 'TTA':'L', 'TTG':'L',\n",
    "'TAC':'Y', 'TAT':'Y', 'TAA':'_', 'TAG':'_',\n",
    "'TGC':'C', 'TGT':'C', 'TGA':'_', 'TGG':'W'}"
   ]
  },
  {
   "cell_type": "code",
   "execution_count": 39,
   "metadata": {
    "collapsed": false
   },
   "outputs": [],
   "source": [
    "def dna_translate(dna_string):\n",
    "    dna_string=dna_string.upper()\n",
    "    last_codon_start = len(dna_string) - 2\n",
    "    protein=\"\"\n",
    "    for start in range(0,last_codon_start,3):\n",
    "        codon = dna_string[start:start+3]\n",
    "        match = protein_dict.get(codon)\n",
    "        protein=match+protein\n",
    "    print('Protein: '+str(protein))"
   ]
  },
  {
   "cell_type": "code",
   "execution_count": 40,
   "metadata": {
    "collapsed": false
   },
   "outputs": [
    {
     "name": "stdout",
     "output_type": "stream",
     "text": [
      "Protein: QDILLSRDI\n"
     ]
    }
   ],
   "source": [
    "dna_translate('ATCGATCGATCGTTGCTTATCGATCAG')"
   ]
  }
 ],
 "metadata": {
  "anaconda-cloud": {},
  "kernelspec": {
   "display_name": "Python [conda root]",
   "language": "python",
   "name": "conda-root-py"
  },
  "language_info": {
   "codemirror_mode": {
    "name": "ipython",
    "version": 3
   },
   "file_extension": ".py",
   "mimetype": "text/x-python",
   "name": "python",
   "nbconvert_exporter": "python",
   "pygments_lexer": "ipython3",
   "version": "3.5.2"
  }
 },
 "nbformat": 4,
 "nbformat_minor": 2
}
