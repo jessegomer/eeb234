{
 "cells": [
  {
   "cell_type": "markdown",
   "metadata": {},
   "source": [
    "# Webscraping HW\n",
    " Zack Gold"
   ]
  },
  {
   "cell_type": "code",
   "execution_count": 8,
   "metadata": {
    "collapsed": true
   },
   "outputs": [],
   "source": [
    "import urllib.request\n",
    "from bs4 import BeautifulSoup\n",
    "import re"
   ]
  },
  {
   "cell_type": "markdown",
   "metadata": {},
   "source": [
    "##My Favorite fish"
   ]
  },
  {
   "cell_type": "markdown",
   "metadata": {},
   "source": [
    "#### Neoclinus blanchardi\n",
    "Max Length : 30.0\n",
    "Body Type : elongated\n",
    "\n",
    "#### Isurus oxyrinchus\n",
    "Max Length : 400.0\n",
    "Body Type : fusiform / normal\n",
    "\n",
    "#### Hippoglossus stenolepis\n",
    "Max Length : 258.0\n",
    "Body Type : fusiform / normal\n",
    "\n",
    "#### Regalecus glesne\n",
    "Max Length : 800.0\n",
    "Body Type : eel-like"
   ]
  },
  {
   "cell_type": "code",
   "execution_count": 69,
   "metadata": {
    "collapsed": false
   },
   "outputs": [
    {
     "name": "stdout",
     "output_type": "stream",
     "text": [
      "Neoclinus blanchardi\n",
      "Max Length : 30.0\n",
      "Body Type : elongated\n"
     ]
    }
   ],
   "source": [
    "import json\n",
    "\n",
    "api_url = \"https://fishbase.ropensci.org/species/?genus=Neoclinus&species=blanchardi\"\n",
    "\n",
    "raw_json = urllib.request.urlopen(api_url)\n",
    "decoded_json = raw_json.read().decode('utf-8')\n",
    "parsed_json = json.loads(decoded_json) ## we use the json.load method directly\n",
    "raw_json.close()\n",
    "print('Neoclinus blanchardi')\n",
    "print('Max Length : ' +str(parsed_json['data'][0]['Length']))\n",
    "print('Body Type : ' + str(parsed_json['data'][0]['BodyShapeI']))"
   ]
  },
  {
   "cell_type": "code",
   "execution_count": 66,
   "metadata": {
    "collapsed": false
   },
   "outputs": [
    {
     "name": "stdout",
     "output_type": "stream",
     "text": [
      "Isurus oxyrinchus\n",
      "Max Length : 400.0\n",
      "Body Type : fusiform / normal\n"
     ]
    }
   ],
   "source": [
    "import json\n",
    "\n",
    "api_url = \"https://fishbase.ropensci.org/species/?genus=Isurus&species=oxyrinchus\"\n",
    "\n",
    "raw_json = urllib.request.urlopen(api_url)\n",
    "decoded_json = raw_json.read().decode('utf-8')\n",
    "parsed_json1 = json.loads(decoded_json) ## we use the json.load method directly\n",
    "raw_json.close()\n",
    "print('Isurus oxyrinchus')\n",
    "print('Max Length : ' +str(parsed_json1['data'][0]['Length']))\n",
    "print('Body Type : ' + str(parsed_json1['data'][0]['BodyShapeI']))"
   ]
  },
  {
   "cell_type": "code",
   "execution_count": 67,
   "metadata": {
    "collapsed": false
   },
   "outputs": [
    {
     "name": "stdout",
     "output_type": "stream",
     "text": [
      "Hippoglossus stenolepis\n",
      "Max Length : 258.0\n",
      "Body Type : fusiform / normal\n"
     ]
    }
   ],
   "source": [
    "import json\n",
    "\n",
    "api_url = \"https://fishbase.ropensci.org/species/?genus=Hippoglossus&species=stenolepis\"\n",
    "\n",
    "raw_json = urllib.request.urlopen(api_url)\n",
    "decoded_json = raw_json.read().decode('utf-8')\n",
    "parsed_json2 = json.loads(decoded_json) ## we use the json.load method directly\n",
    "raw_json.close()\n",
    "print('Hippoglossus stenolepis')\n",
    "print('Max Length : ' +str(parsed_json2['data'][0]['Length']))\n",
    "print('Body Type : ' + str(parsed_json2['data'][0]['BodyShapeI']))"
   ]
  },
  {
   "cell_type": "code",
   "execution_count": 68,
   "metadata": {
    "collapsed": false
   },
   "outputs": [
    {
     "name": "stdout",
     "output_type": "stream",
     "text": [
      "Regalecus glesne\n",
      "Max Length : 800.0\n",
      "Body Type : eel-like\n"
     ]
    }
   ],
   "source": [
    "import json\n",
    "\n",
    "api_url = \"https://fishbase.ropensci.org/species/?genus=Regalecus&species=glesne\"\n",
    "\n",
    "raw_json = urllib.request.urlopen(api_url)\n",
    "decoded_json = raw_json.read().decode('utf-8')\n",
    "parsed_json3 = json.loads(decoded_json) ## we use the json.load method directly\n",
    "raw_json.close()\n",
    "print('Regalecus glesne')\n",
    "print('Max Length : ' +str(parsed_json3['data'][0]['Length']))\n",
    "print('Body Type : ' + str(parsed_json3['data'][0]['BodyShapeI']))"
   ]
  },
  {
   "cell_type": "code",
   "execution_count": null,
   "metadata": {
    "collapsed": true
   },
   "outputs": [],
   "source": []
  }
 ],
 "metadata": {
  "anaconda-cloud": {},
  "kernelspec": {
   "display_name": "Python [conda root]",
   "language": "python",
   "name": "conda-root-py"
  },
  "language_info": {
   "codemirror_mode": {
    "name": "ipython",
    "version": 3
   },
   "file_extension": ".py",
   "mimetype": "text/x-python",
   "name": "python",
   "nbconvert_exporter": "python",
   "pygments_lexer": "ipython3",
   "version": "3.5.2"
  }
 },
 "nbformat": 4,
 "nbformat_minor": 2
}
