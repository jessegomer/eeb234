{
 "cells": [
  {
   "cell_type": "code",
   "execution_count": 8,
   "metadata": {
    "collapsed": true
   },
   "outputs": [],
   "source": [
    "import urllib.request\n",
    "from bs4 import BeautifulSoup\n",
    "import re"
   ]
  },
  {
   "cell_type": "markdown",
   "metadata": {},
   "source": [
    "My Favorite fish"
   ]
  },
  {
   "cell_type": "code",
   "execution_count": null,
   "metadata": {
    "collapsed": true
   },
   "outputs": [],
   "source": [
    "Sarcastic Fringehead\n",
    "\n",
    "Neoclinus blanchardi"
   ]
  },
  {
   "cell_type": "code",
   "execution_count": 51,
   "metadata": {
    "collapsed": false
   },
   "outputs": [],
   "source": [
    "import json\n",
    "\n",
    "api_url = \"https://fishbase.ropensci.org/species/?genus=Neoclinus&species=blanchardi\"\n",
    "\n",
    "raw_json = urllib.request.urlopen(api_url)\n",
    "decoded_json = raw_json.read().decode('utf-8')\n",
    "parsed_json = json.loads(decoded_json) ## we use the json.load method directly\n",
    "raw_json.close()\n"
   ]
  },
  {
   "cell_type": "code",
   "execution_count": 52,
   "metadata": {
    "collapsed": false
   },
   "outputs": [
    {
     "name": "stdout",
     "output_type": "stream",
     "text": [
      "Neoclinus blanchardi\n"
     ]
    },
    {
     "data": {
      "text/plain": [
       "'elongated'"
      ]
     },
     "execution_count": 52,
     "metadata": {},
     "output_type": "execute_result"
    }
   ],
   "source": [
    "print('Neoclinus blanchardi')\n",
    "parsed_json['data'][0]['Length']\n",
    "parsed_json['data'][0]['BodyShapeI']"
   ]
  },
  {
   "cell_type": "code",
   "execution_count": 55,
   "metadata": {
    "collapsed": false
   },
   "outputs": [
    {
     "name": "stdout",
     "output_type": "stream",
     "text": [
      "Isurus oxyrinchus\n"
     ]
    },
    {
     "data": {
      "text/plain": [
       "'fusiform / normal'"
      ]
     },
     "execution_count": 55,
     "metadata": {},
     "output_type": "execute_result"
    }
   ],
   "source": [
    "import json\n",
    "\n",
    "api_url = \"https://fishbase.ropensci.org/species/?genus=Isurus&species=oxyrinchus\"\n",
    "\n",
    "raw_json = urllib.request.urlopen(api_url)\n",
    "decoded_json = raw_json.read().decode('utf-8')\n",
    "parsed_json1 = json.loads(decoded_json) ## we use the json.load method directly\n",
    "raw_json.close()\n",
    "print('Isurus oxyrinchus')\n",
    "parsed_json1['data'][0]['Length']\n",
    "parsed_json1['data'][0]['BodyShapeI']"
   ]
  },
  {
   "cell_type": "code",
   "execution_count": 56,
   "metadata": {
    "collapsed": false
   },
   "outputs": [
    {
     "name": "stdout",
     "output_type": "stream",
     "text": [
      "Hippoglossus stenolepis\n"
     ]
    },
    {
     "data": {
      "text/plain": [
       "'fusiform / normal'"
      ]
     },
     "execution_count": 56,
     "metadata": {},
     "output_type": "execute_result"
    }
   ],
   "source": [
    "import json\n",
    "\n",
    "api_url = \"https://fishbase.ropensci.org/species/?genus=Hippoglossus&species=stenolepis\"\n",
    "\n",
    "raw_json = urllib.request.urlopen(api_url)\n",
    "decoded_json = raw_json.read().decode('utf-8')\n",
    "parsed_json2 = json.loads(decoded_json) ## we use the json.load method directly\n",
    "raw_json.close()\n",
    "print('Hippoglossus stenolepis')\n",
    "parsed_json2['data'][0]['Length']\n",
    "parsed_json2['data'][0]['BodyShapeI']"
   ]
  },
  {
   "cell_type": "code",
   "execution_count": 57,
   "metadata": {
    "collapsed": false
   },
   "outputs": [
    {
     "name": "stdout",
     "output_type": "stream",
     "text": [
      "Regalecus glesne\n"
     ]
    },
    {
     "data": {
      "text/plain": [
       "'eel-like'"
      ]
     },
     "execution_count": 57,
     "metadata": {},
     "output_type": "execute_result"
    }
   ],
   "source": [
    "import json\n",
    "\n",
    "api_url = \"https://fishbase.ropensci.org/species/?genus=Regalecus&species=glesne\"\n",
    "\n",
    "raw_json = urllib.request.urlopen(api_url)\n",
    "decoded_json = raw_json.read().decode('utf-8')\n",
    "parsed_json3 = json.loads(decoded_json) ## we use the json.load method directly\n",
    "raw_json.close()\n",
    "print('Regalecus glesne')\n",
    "parsed_json3['data'][0]['Length']\n",
    "parsed_json3['data'][0]['BodyShapeI']"
   ]
  },
  {
   "cell_type": "code",
   "execution_count": null,
   "metadata": {
    "collapsed": true
   },
   "outputs": [],
   "source": []
  }
 ],
 "metadata": {
  "anaconda-cloud": {},
  "kernelspec": {
   "display_name": "Python [conda root]",
   "language": "python",
   "name": "conda-root-py"
  },
  "language_info": {
   "codemirror_mode": {
    "name": "ipython",
    "version": 3
   },
   "file_extension": ".py",
   "mimetype": "text/x-python",
   "name": "python",
   "nbconvert_exporter": "python",
   "pygments_lexer": "ipython3",
   "version": "3.5.2"
  }
 },
 "nbformat": 4,
 "nbformat_minor": 2
}
