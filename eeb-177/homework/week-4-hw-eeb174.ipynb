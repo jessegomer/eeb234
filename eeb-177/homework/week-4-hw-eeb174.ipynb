{
 "cells": [
  {
   "cell_type": "code",
   "execution_count": 1,
   "metadata": {
    "collapsed": false
   },
   "outputs": [
    {
     "data": {
      "text/plain": [
       "'TGACTAGCTAATGCATATCATAAACGATAGTATGTATATATAGCTACGCAAGTA'"
      ]
     },
     "execution_count": 1,
     "metadata": {},
     "output_type": "execute_result"
    }
   ],
   "source": [
    "#Complimentary DNA\n",
    "dna_string2='ACTGATCGATTACGTATAGTATTTGCTATCATACATATATATCGATGCGTTCAT'\n",
    "comp25= dna_string2.replace('A','t')\n",
    "comp50= comp25.replace('T','a')\n",
    "comp75= comp50.replace('G','c')\n",
    "comp100= comp75.replace('C','g')\n",
    "complimentary_dna=comp100.upper()\n",
    "complimentary_dna\n"
   ]
  },
  {
   "cell_type": "code",
   "execution_count": 2,
   "metadata": {
    "collapsed": false
   },
   "outputs": [
    {
     "name": "stdout",
     "output_type": "stream",
     "text": [
      "Fragment length 1: 23 Fragment length 2: 32\n"
     ]
    }
   ],
   "source": [
    "#Restriction Fragment Lengths\n",
    "dna_string3='ACTGATCGATTACGTATAGTAGAATTCTATCATACATATATATCGATGCGTTCAT'\n",
    "\n",
    "dna_3_len= len(dna_string3)\n",
    "len_frag1=dna_string3.find('AATTC')+1\n",
    "len_frag2=dna_3_len - len_frag1\n",
    "print(\"Fragment length 1: \" + str(len_frag1) + \" Fragment length 2: \" + str(len_frag2))"
   ]
  },
  {
   "cell_type": "code",
   "execution_count": 3,
   "metadata": {
    "collapsed": false
   },
   "outputs": [
    {
     "data": {
      "text/plain": [
       "'Exon 1:ATCGATCGATCGATCGACTGACTAGTCATAGCTATGCATGTAGCTACTCGATCGATCGATCG  Exon 2:ATCATCGATCGATATCGATGCATCGACTACTAT'"
      ]
     },
     "execution_count": 3,
     "metadata": {},
     "output_type": "execute_result"
    }
   ],
   "source": [
    "#Splicing Out introns\n",
    "\n",
    "dna_string4='ATCGATCGATCGATCGACTGACTAGTCATAGCTATGCATGTAGCTACTCGATCGATCGATCGATCGATCGATCGATCGATCGATCATGCTATCATCGATCGATATCGATGCATCGACTACTAT'\n",
    "coding_regions= \"Exon 1:\" + dna_string4[0:62] + \"  Exon 2:\" + dna_string4[90:1000]\n",
    "coding_regions"
   ]
  },
  {
   "cell_type": "code",
   "execution_count": 4,
   "metadata": {
    "collapsed": false
   },
   "outputs": [
    {
     "data": {
      "text/plain": [
       "'ATCGATCGATCGATCGACTGACTAGTCATAGCTATGCATGTAGCTACTCGATCGATCGATCGatcgatcgatcgatcgatcgatcatgctATCATCGATCGATATCGATGCATCGACTACTAT'"
      ]
     },
     "execution_count": 4,
     "metadata": {},
     "output_type": "execute_result"
    }
   ],
   "source": [
    "#Splicing out introns P3\n",
    "\n",
    "exon1= dna_string4[0:62]\n",
    "exon2= dna_string4[90:1000]\n",
    "intron= dna_string4[62:90]\n",
    "labled_dna_string4 = exon1 + intron.lower() + exon2\n",
    "labled_dna_string4"
   ]
  },
  {
   "cell_type": "code",
   "execution_count": 5,
   "metadata": {
    "collapsed": true
   },
   "outputs": [],
   "source": [
    "my_file = open(\"dna.txt\")"
   ]
  },
  {
   "cell_type": "code",
   "execution_count": 12,
   "metadata": {
    "collapsed": false
   },
   "outputs": [
    {
     "name": "stdout",
     "output_type": "stream",
     "text": [
      "TGGGAGTGGTTGATGCTCTATACTCCATTCGGTTTTTTCGTGCATCACCGCGAGAGGCTGACAAGGGTTTGACATTGAGTAGCAAGGCACTTCCGGACTCAATGAAGGGCCGGGAAAGGTACGCGCGTGGTATGGGAGGATCAAGGAGCCAATACAAAGGCTTCATCCTCACTCGCATGGAGGCAAACGCAGAACAATGGTTACTATTTCGATACGTGAAACATGTCCCACGGTAGCCCAAAGACTTAAGAGTCTATCACCCCTAGGGCCCTTTCCCGGATATAAACGCCAGGTTGAATCCGCATTTGGAGCTACGATGGATGAGTCTGGGTGGAGCGCGCCCCATTTATACCGTGAGTAGGGTCGACCAAGAACCGCAAGATGCGTCGGTGTACAAATAATTGTCAACAGACCGTCGTGTTTTGAAAATGGTACCAGCATCTTCGGGCGGTCTCAATCAAGCATGGATTACGGTGTTTACTCTGTCCTGCGGTTACCCATGGCCTGTAATCCAGCTCGAGTCAAGCCATTGCCTCTCTGGGACGCCGCATGAACTAATACGTATACTTTGCACGGGTTCACTGCGGTCCGTTCAGAGTCGACCAAGGACACAATCGAGCTCCCATCTGTATGCTCGACTAACTTGTACCCAACCCCCGGAGCTTGGCAGCTCCTGGGGTATCATGGAGCCTCTGGTTCATCCCGTGGGATATCAAGCTTCGTCTTGATAAAGCTCCCCGCTCGGGAGTAGCAGAGAAGACGCCTACTGAATTGTGCGATCCCTGCACCTCAGCTAAGGTAGCTACCAATATTTAGTTTCTAAGCCTTACGACAGACCTCGCACTTAGATTGCCATGCATAGAGCTAACGAGCCAGCGAAAAGCGTGAGGCGCTTTCAAGCATGGCGAGTAAGTGATCCAACGCTTCGGATACGACTATATACTTAGGTTTGATCTCGCCCCGAGAACTGTAAACCTCAACATTTATAGATTATGAGGTT\n",
      "\n"
     ]
    }
   ],
   "source": [
    "file_contents = my_file.read()\n",
    "print(file_contents)"
   ]
  },
  {
   "cell_type": "code",
   "execution_count": 13,
   "metadata": {
    "collapsed": true
   },
   "outputs": [],
   "source": [
    "my_file_name = \"dna.txt\"\n",
    "my_file = open(my_file_name)\n",
    "my_file_contents = my_file.read()"
   ]
  },
  {
   "cell_type": "code",
   "execution_count": 15,
   "metadata": {
    "collapsed": false
   },
   "outputs": [
    {
     "name": "stdout",
     "output_type": "stream",
     "text": [
      "sequence is TGGGAGTGGTTGATGCTCTATACTCCATTCGGTTTTTTCGTGCATCACCGCGAGAGGCTGACAAGGGTTTGACATTGAGTAGCAAGGCACTTCCGGACTCAATGAAGGGCCGGGAAAGGTACGCGCGTGGTATGGGAGGATCAAGGAGCCAATACAAAGGCTTCATCCTCACTCGCATGGAGGCAAACGCAGAACAATGGTTACTATTTCGATACGTGAAACATGTCCCACGGTAGCCCAAAGACTTAAGAGTCTATCACCCCTAGGGCCCTTTCCCGGATATAAACGCCAGGTTGAATCCGCATTTGGAGCTACGATGGATGAGTCTGGGTGGAGCGCGCCCCATTTATACCGTGAGTAGGGTCGACCAAGAACCGCAAGATGCGTCGGTGTACAAATAATTGTCAACAGACCGTCGTGTTTTGAAAATGGTACCAGCATCTTCGGGCGGTCTCAATCAAGCATGGATTACGGTGTTTACTCTGTCCTGCGGTTACCCATGGCCTGTAATCCAGCTCGAGTCAAGCCATTGCCTCTCTGGGACGCCGCATGAACTAATACGTATACTTTGCACGGGTTCACTGCGGTCCGTTCAGAGTCGACCAAGGACACAATCGAGCTCCCATCTGTATGCTCGACTAACTTGTACCCAACCCCCGGAGCTTGGCAGCTCCTGGGGTATCATGGAGCCTCTGGTTCATCCCGTGGGATATCAAGCTTCGTCTTGATAAAGCTCCCCGCTCGGGAGTAGCAGAGAAGACGCCTACTGAATTGTGCGATCCCTGCACCTCAGCTAAGGTAGCTACCAATATTTAGTTTCTAAGCCTTACGACAGACCTCGCACTTAGATTGCCATGCATAGAGCTAACGAGCCAGCGAAAAGCGTGAGGCGCTTTCAAGCATGGCGAGTAAGTGATCCAACGCTTCGGATACGACTATATACTTAGGTTTGATCTCGCCCCGAGAACTGTAAACCTCAACATTTATAGATTATGAGGTT and length is 1000\n"
     ]
    }
   ],
   "source": [
    "# open the file\n",
    "my_file = open(\"dna.txt\")\n",
    "# read the contents\n",
    "my_dna = my_file.read()\n",
    "# remove the newline from the end of the file contents\n",
    "my_dna = my_file_contents.rstrip(\"\\n\")\n",
    "# calculate the length\n",
    "dna_length = len(my_dna)\n",
    "# print the output\n",
    "print(\"sequence is \" + my_dna +  \" and length is \" + str(dna_length))"
   ]
  },
  {
   "cell_type": "code",
   "execution_count": 16,
   "metadata": {
    "collapsed": false
   },
   "outputs": [
    {
     "ename": "FileNotFoundError",
     "evalue": "[Errno 2] No such file or directory: 'nonexistent.txt'",
     "output_type": "error",
     "traceback": [
      "\u001b[0;31m---------------------------------------------------------------------------\u001b[0m",
      "\u001b[0;31mFileNotFoundError\u001b[0m                         Traceback (most recent call last)",
      "\u001b[0;32m<ipython-input-16-0f5a58825b22>\u001b[0m in \u001b[0;36m<module>\u001b[0;34m()\u001b[0m\n\u001b[0;32m----> 1\u001b[0;31m \u001b[0mmy_file\u001b[0m \u001b[0;34m=\u001b[0m \u001b[0mopen\u001b[0m\u001b[0;34m(\u001b[0m\u001b[0;34m\"nonexistent.txt\"\u001b[0m\u001b[0;34m)\u001b[0m\u001b[0;34m\u001b[0m\u001b[0m\n\u001b[0m",
      "\u001b[0;31mFileNotFoundError\u001b[0m: [Errno 2] No such file or directory: 'nonexistent.txt'"
     ]
    }
   ],
   "source": [
    "my_file = open(\"nonexistent.txt\")"
   ]
  },
  {
   "cell_type": "code",
   "execution_count": 20,
   "metadata": {
    "collapsed": false
   },
   "outputs": [],
   "source": [
    "my_file2 = open(\"out.txt\", \"w\")\n",
    "my_file2.write(\"Hello world\")\n",
    "my_file.close()"
   ]
  },
  {
   "cell_type": "code",
   "execution_count": 24,
   "metadata": {
    "collapsed": false
   },
   "outputs": [
    {
     "data": {
      "text/plain": [
       "28"
      ]
     },
     "execution_count": 24,
     "metadata": {},
     "output_type": "execute_result"
    }
   ],
   "source": [
    "# Splitting Genomic DNA\n",
    "#Splicing Out introns\n",
    "\n",
    "dna_string4='ATCGATCGATCGATCGACTGACTAGTCATAGCTATGCATGTAGCTACTCGATCGATCGATCGATCGATCGATCGATCGATCGATCATGCTATCATCGATCGATATCGATGCATCGACTACTAT'\n",
    "exons = open(\"exons.txt\", \"w\")\n",
    "exons.write(dna_string4[0:62]+ dna_string4[90:1000])\n",
    "introns = open(\"introns.txt\", \"w\")\n",
    "introns.write(dna_string4[62:90])"
   ]
  },
  {
   "cell_type": "code",
   "execution_count": 38,
   "metadata": {
    "collapsed": false
   },
   "outputs": [],
   "source": [
    "#Writing a FASTA file\n",
    "ABC123 =\"ATCGTACGATCGATCGATCGCTAGACGTATCG\"\n",
    "DEF456 =\"actgatcgacgatcgatcgatcacgact\"\n",
    "HIJ789 = \"ACTGAC-ACTGT--ACTGTA----CATGTG\"\n",
    "\n",
    "ABC123 = ABC123.upper()\n",
    "DEF456 =DEF456.upper()\n",
    "HIJ789=HIJ789.upper()\n",
    "\n",
    "ABC123 = ABC123.replace('-','')\n",
    "DEF456 =DEF456.replace('-','')\n",
    "HIJ789=HIJ789.replace('-','')\n",
    "\n",
    "sequence_1 = open(\"sequence_1.txt\", \"w\")\n",
    "sequence_1.write(\"> ABC123\\n\" + ABC123)\n",
    "sequence_1.close()\n",
    "\n",
    "sequence_2 = open(\"sequence_2.txt\", \"w\")\n",
    "sequence_2.write(\"> DEF456\\n\" + DEF456)\n",
    "sequence_2.close()\n",
    "\n",
    "sequence_3 = open(\"sequence_3.txt\", \"w\")\n",
    "sequence_3.write(\"> HIJ789\\n\" + HIJ789)\n",
    "sequence_3.close()"
   ]
  },
  {
   "cell_type": "code",
   "execution_count": 46,
   "metadata": {
    "collapsed": false
   },
   "outputs": [
    {
     "name": "stdout",
     "output_type": "stream",
     "text": [
      "43\n",
      "38\n",
      "49\n",
      "34\n",
      "48\n",
      "0\n"
     ]
    }
   ],
   "source": [
    "#Processing DNA in a file\n",
    "\n",
    "dna_file =open(\"input.txt\")\n",
    "for dna in dna_file:\n",
    "    length_dna= len(dna)\n",
    "    trimmed= dna[14:length_dna]\n",
    "    trimmed_sequences = open(\"trimmed_sequences.txt\",\"a\")\n",
    "    trimmed_sequences.write(trimmed+\"\\n\")\n",
    "    trimmed_sequences.close()\n",
    "    length_trimmed=len(trimmed)\n",
    "    print (length_trimmed)"
   ]
  },
  {
   "cell_type": "code",
   "execution_count": 14,
   "metadata": {
    "collapsed": false
   },
   "outputs": [
    {
     "name": "stdout",
     "output_type": "stream",
     "text": [
      "Exon coding sequence: TCGATCGATCGACTGACTAGTCATAGCTATGCATGTAGCTACTCGATCGATCG\n",
      "Exon coding sequence: TCGATCGATCGACTGACTAGTCATAGCTATGCATGTAGCTACTCGATCGATCGCGATCGATCGATCATGCTATCATCGATCGATATCGATGCATCGACTACTATATCGATCGAT\n",
      "Exon coding sequence: TCGATCGATCGACTGACTAGTCATAGCTATGCATGTAGCTACTCGATCGATCGCGATCGATCGATCATGCTATCATCGATCGATATCGATGCATCGACTACTATATCGATCGATTCGATCGATCGATCGATCATGCTATCATCGATCGATATCGATGCATCGACTACTATATCGATCGATCGATCGACTGACTAGTCATA\n",
      "Exon coding sequence: TCGATCGATCGACTGACTAGTCATAGCTATGCATGTAGCTACTCGATCGATCGCGATCGATCGATCATGCTATCATCGATCGATATCGATGCATCGACTACTATATCGATCGATTCGATCGATCGATCGATCATGCTATCATCGATCGATATCGATGCATCGACTACTATATCGATCGATCGATCGACTGACTAGTCATATCGATCGATATCGATGCATCGACTACTATATCGATCGATCGATCGACTGACTAGTCAT\n"
     ]
    }
   ],
   "source": [
    "#Multiple Exons from DNA\n",
    "genomic_dna=open(\"genomic_dna.txt\").read()\n",
    "exon=open(\"exon_ex.txt\")\n",
    "final_coding_sequence=\"\"\n",
    "for count in exon:\n",
    "    posisition=count.split(',')\n",
    "    start=int(posisition[0])\n",
    "    end=int(posisition[1])\n",
    "    exon_seq= genomic_dna[start:end]\n",
    "    final_coding_sequence= final_coding_sequence + exon_seq\n",
    "    print(\"Exon coding sequence: \"+final_coding_sequence)\n",
    "    exon_sequences= open(\"exon_sequences.txt\",\"a\")\n",
    "    exon_sequences.write(\"Exon coding sequence: \"+ final_coding_sequence+\"\\n\")\n",
    "    exon_sequences.close()"
   ]
  },
  {
   "cell_type": "code",
   "execution_count": null,
   "metadata": {
    "collapsed": true
   },
   "outputs": [],
   "source": []
  }
 ],
 "metadata": {
  "anaconda-cloud": {},
  "kernelspec": {
   "display_name": "Python [conda root]",
   "language": "python",
   "name": "conda-root-py"
  },
  "language_info": {
   "codemirror_mode": {
    "name": "ipython",
    "version": 3
   },
   "file_extension": ".py",
   "mimetype": "text/x-python",
   "name": "python",
   "nbconvert_exporter": "python",
   "pygments_lexer": "ipython3",
   "version": "3.5.2"
  }
 },
 "nbformat": 4,
 "nbformat_minor": 2
}
