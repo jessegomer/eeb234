a = 3
b = 17
c = a+b

favorite_animal= "mantis shrimp"
favorite_dinners= ['Super Rica', 'Jitlada', 'Wurstkutche']
num_fav_dinners= len(favorite_dinners)

#3.
def templogger(number):
	if number<5:
		print ("Brr! It's cold!")
	if number>25:
		print ("It's pretty warm!")
	if 25>=number>=5:
		print ("What a pleasant temperature!")

#4. 
DNA_string='ATAATTAACGGAGCTTATTA'
#DNA_string='ATAATTAACGGATGTCTATTA'which actually has the string pattern we are searching for
print(re.findall(pattern="G[AT][AT]G[AT][GC]", string=DNA_string)

#5.
import random
def rps(move):
    ...:     game = random.choice(['rock','paper','scissors'])
    ...:     if game == 'rock' and move == 'rock':
    ...:         print("You picked rock; Computer picked rock; this is a tie!")
    ...:     elif game == 'paper' and move == 'paper':
    ...:         print("You picked paper; Computer picked paper; this is a tie!")
    ...:     elif game == 'scissors' and move == 'scissors':
    ...:         print("You picked scissors; Computer picked scissors; this is a tie!")
    ...:     elif game == 'rock' and move == 'paper':
    ...:         print("You picked paper; Computer picked rock; +1 for You!")
    ...:     elif game == 'rock' and move == 'scissors':
    ...:         print("You picked scissors; Computer picked rock; +1 for Computer!")
    ...:     elif game == 'scissors' and move == 'rock':
    ...:         print("You picked rock; Computer picked scissors; +1 for You!")
    ...:     elif game == 'scissors' and move == 'paper':
    ...:         print("You picked paper; Computer picked scissors; +1 for Computer!")
    ...:     elif game == 'paper' and move == 'rock':
    ...:         print("You picked rock; Computer picked paper; +1 for Computer!")
    ...:     elif game == 'paper' and move == 'scissors':
    ...:         print("You picked scissors; Computer picked paper; +1 for You!")
    ...:     else:
    ...:         print ("Invalid move. Maybe you should find an easier game.")








