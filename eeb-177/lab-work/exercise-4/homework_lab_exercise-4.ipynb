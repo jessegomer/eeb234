{
 "cells": [
  {
   "cell_type": "code",
   "execution_count": 2,
   "metadata": {
    "collapsed": true
   },
   "outputs": [],
   "source": [
    "#Homework\n",
    "\n",
    "    #Write a for-loop that prints out the numbers from 100 to 110.\n",
    "for count in range(100,111,1):\n",
    "    print= count\n",
    "\n",
    "    #Write a while- loop that prints out the numbers from 100 to 110.\n",
    "\n",
    "    #Write a loop that prints out the squares of the numbers from 10-15. This can be a for or a while loop.\n",
    "\n",
    "    #Write a loop that iterates over the list [\"Scooby\", \"Shaggy\", \"Velma\", \"Daphne\", \"Fred\"] and for each character prints the statement \"XXX is a character in that most glorious of cartoons, Scooby Doo\".\n",
    "\n",
    "    #Write a function that meets the following criteria:\n",
    "\n",
    "#1. The function must be named \"fact_or_sum\"   \n",
    "#2. The function must take in one input, which must be an integer. If the user inputs a string, the function should return an error message.\n",
    "#3. If the input integer is 0, the function returns the number 0.  \n",
    "#4. If the input integer is an odd number, the function returns the factorial of the number. \n",
    "#4a. A factorial is computed as the product of a number and each integer below that number, until 1 (e.g. n*(n-1)*(n-2)...*1)\n",
    "#5. The factorial MUST be computed with a for loop. \n",
    "#6. If the input integer is an even number, the function returns the sum of that number and all numbers below it, until 1 (e.g. n+(n-1)+(n-2)...+1).\n",
    "#6a. The sum must be computed with a while loop.\n"
   ]
  },
  {
   "cell_type": "code",
   "execution_count": null,
   "metadata": {
    "collapsed": true
   },
   "outputs": [],
   "source": []
  }
 ],
 "metadata": {
  "anaconda-cloud": {},
  "kernelspec": {
   "display_name": "Python [conda root]",
   "language": "python",
   "name": "conda-root-py"
  },
  "language_info": {
   "codemirror_mode": {
    "name": "ipython",
    "version": 3
   },
   "file_extension": ".py",
   "mimetype": "text/x-python",
   "name": "python",
   "nbconvert_exporter": "python",
   "pygments_lexer": "ipython3",
   "version": "3.5.2"
  }
 },
 "nbformat": 4,
 "nbformat_minor": 2
}
