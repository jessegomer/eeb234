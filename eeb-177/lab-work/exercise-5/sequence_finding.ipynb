{
 "cells": [
  {
   "cell_type": "markdown",
   "metadata": {
    "collapsed": true
   },
   "source": [
    "# Sequence Finding Assignemnt\n",
    "### Zack Gold\n",
    "#import the Marra.fasta file into python\n",
    "\n",
    "#grab name of the first contig and assign as key to a variable\n",
    "#count the number of AATG in the contig\n",
    "#assign number of AATG to a variable\n",
    "#key is first variable of contig names\n",
    "#value is second variable of number of AATGs\n",
    "\n",
    "#export csv file to current working directoy /Labwork"
   ]
  },
  {
   "cell_type": "markdown",
   "metadata": {
    "collapsed": true
   },
   "source": [
    "#import the Marra.fasta file into python\n"
   ]
  },
  {
   "cell_type": "code",
   "execution_count": 71,
   "metadata": {
    "collapsed": false
   },
   "outputs": [],
   "source": [
    "marra= open(\"/home/eeb177-student/CSB/unix/data/Marra2014_data.fasta\")"
   ]
  },
  {
   "cell_type": "markdown",
   "metadata": {
    "collapsed": true
   },
   "source": [
    "#grab name of the first contig and assign as key to a variable\n"
   ]
  },
  {
   "cell_type": "code",
   "execution_count": 72,
   "metadata": {
    "collapsed": true
   },
   "outputs": [],
   "source": [
    "import re"
   ]
  },
  {
   "cell_type": "code",
   "execution_count": 73,
   "metadata": {
    "collapsed": false
   },
   "outputs": [
    {
     "data": {
      "text/plain": [
       "str"
      ]
     },
     "execution_count": 73,
     "metadata": {},
     "output_type": "execute_result"
    }
   ],
   "source": [
    "marra_r=marra.read()\n",
    "#print(marra_r)\n",
    "type(marra_r)"
   ]
  },
  {
   "cell_type": "code",
   "execution_count": 76,
   "metadata": {
    "collapsed": false
   },
   "outputs": [],
   "source": [
    "marra_split= marra_r.split('>')\n",
    "marra_split=marra_split[1:]"
   ]
  },
  {
   "cell_type": "code",
   "execution_count": 78,
   "metadata": {
    "collapsed": false
   },
   "outputs": [],
   "source": [
    "contigs=[]\n",
    "for i in range(0,len(marra_split)):\n",
    "    contigs.append(re.search(\"(\\w*)\\s.\",marra_split[i]).group())"
   ]
  },
  {
   "cell_type": "markdown",
   "metadata": {},
   "source": [
    "#count the number of AATG in the contig"
   ]
  },
  {
   "cell_type": "code",
   "execution_count": 80,
   "metadata": {
    "collapsed": false
   },
   "outputs": [],
   "source": [
    "count=[]\n",
    "for i in range(0,len(marra_split)):\n",
    "    count.append(marra_split[i].count(\"AATG\"))"
   ]
  },
  {
   "cell_type": "markdown",
   "metadata": {},
   "source": [
    "#assign number of AATG to a variable\n",
    "#key is first variable of contig names\n",
    "#value is second variable of number of AATGs"
   ]
  },
  {
   "cell_type": "code",
   "execution_count": 82,
   "metadata": {
    "collapsed": false
   },
   "outputs": [],
   "source": [
    "here = (contigs,count)\n",
    "there=list(zip(*here))"
   ]
  },
  {
   "cell_type": "markdown",
   "metadata": {},
   "source": [
    "#export csv file to current working directoy /Labwork"
   ]
  },
  {
   "cell_type": "code",
   "execution_count": 83,
   "metadata": {
    "collapsed": false
   },
   "outputs": [
    {
     "data": {
      "text/plain": [
       "'/home/eeb177-student/Desktop/eeb234/eeb-177/lab-work/exercise-5/gold_zack_output.csv'"
      ]
     },
     "execution_count": 83,
     "metadata": {},
     "output_type": "execute_result"
    }
   ],
   "source": [
    "import os\n",
    "path=os.getcwd()\n",
    "path+ \"/gold_zack_output.csv\""
   ]
  },
  {
   "cell_type": "code",
   "execution_count": 84,
   "metadata": {
    "collapsed": false
   },
   "outputs": [],
   "source": [
    "import csv\n",
    "myfile = open(path+\"/gold_zack_output.csv\", 'w')\n",
    "wr = csv.writer(myfile, delimiter=',')\n",
    "for i in range(0,len(there)):\n",
    "    wr.writerow(there[i])\n"
   ]
  },
  {
   "cell_type": "code",
   "execution_count": null,
   "metadata": {
    "collapsed": true
   },
   "outputs": [],
   "source": []
  }
 ],
 "metadata": {
  "anaconda-cloud": {},
  "kernelspec": {
   "display_name": "Python [conda root]",
   "language": "python",
   "name": "conda-root-py"
  },
  "language_info": {
   "codemirror_mode": {
    "name": "ipython",
    "version": 3
   },
   "file_extension": ".py",
   "mimetype": "text/x-python",
   "name": "python",
   "nbconvert_exporter": "python",
   "pygments_lexer": "ipython3",
   "version": "3.5.2"
  }
 },
 "nbformat": 4,
 "nbformat_minor": 2
}
