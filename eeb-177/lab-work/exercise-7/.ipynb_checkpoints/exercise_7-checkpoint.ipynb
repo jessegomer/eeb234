{
 "cells": [
  {
   "cell_type": "code",
   "execution_count": 40,
   "metadata": {
    "collapsed": false
   },
   "outputs": [],
   "source": [
    "# read in the file and make a dictionary of DBh at each census\n",
    "\n",
    "in_file= open(\"/home/eeb177-student/Desktop/eeb234/eeb-177/classwork/feb-21/cocoli.txt\")\n",
    "\n",
    "\n",
    "sizes_94 = {}\n",
    "sizes_97 = {}\n",
    "sizes_98 = {}\n",
    "#get rid of the header\n",
    "in_file.readline()\n",
    "\n",
    "for line in in_file:\n",
    "    items = line.split()\n",
    "    tree_id=items[0]\n",
    "    s94 = float(items[4])\n",
    "    s97 = float(items[5])\n",
    "    s98 = float(items[6])\n",
    "    \n",
    "    sizes_94[tree_id] = s94\n",
    "    sizes_97[tree_id] = s97\n",
    "    sizes_98[tree_id] = s98\n",
    "\n",
    "in_file.close()"
   ]
  },
  {
   "cell_type": "code",
   "execution_count": 46,
   "metadata": {
    "collapsed": false
   },
   "outputs": [
    {
     "data": {
      "image/png": "[encoded data removed]",
      "text/plain": [
       "<matplotlib.figure.Figure at 0x7fa9b94f9e10>"
      ]
     },
     "metadata": {},
     "output_type": "display_data"
    }
   ],
   "source": [
    "import matplotlib.pyplot as plt\n",
    "\n",
    "\n",
    "# histogram of DBHs in 1994\n",
    "#matplot works on lists, need to make a list of sizes\n",
    "\n",
    "sizes_94_l= list(sizes_94.values())\n",
    "plt.hist(sizes, log = True)\n",
    "plt.show()"
   ]
  },
  {
   "cell_type": "code",
   "execution_count": 47,
   "metadata": {
    "collapsed": false
   },
   "outputs": [
    {
     "data": {
      "image/png": "[encoded data removed]",
      "text/plain": [
       "<matplotlib.figure.Figure at 0x7fa9b9f0b048>"
      ]
     },
     "metadata": {},
     "output_type": "display_data"
    }
   ],
   "source": [
    "sizes_97_l= list(sizes_97.values())\n",
    "sizes_98_l= list(sizes_98.values())\n",
    "\n",
    "f, (ax1, ax2, ax3) = plt.subplots(1,3, sharex= True, sharey=True)\n",
    "ax1.hist(sizes_94_l, log = True)\n",
    "ax1.set_title('Hist in 1994')\n",
    "ax2.hist(sizes_97_l, log = True)\n",
    "ax2.set_title('Hist in 1997')\n",
    "ax3.hist(sizes_98_l, log = True)\n",
    "ax3.set_title('Hist in 1998')\n",
    "plt.show()"
   ]
  },
  {
   "cell_type": "code",
   "execution_count": 51,
   "metadata": {
    "collapsed": true
   },
   "outputs": [],
   "source": [
    "sizes_94_l[:]=(value for value in sizes_94_l if value != -2)\n",
    "sizes_97_l[:]=(value for value in sizes_97_l if value != -2)\n",
    "sizes_98_l[:]=(value for value in sizes_98_l if value != -2)\n",
    "\n",
    "sizes_94_l[:]=(value for value in sizes_94_l if value != -1)\n",
    "sizes_97_l[:]=(value for value in sizes_97_l if value != -1)\n",
    "sizes_98_l[:]=(value for value in sizes_98_l if value != -1)"
   ]
  },
  {
   "cell_type": "code",
   "execution_count": 52,
   "metadata": {
    "collapsed": false
   },
   "outputs": [
    {
     "data": {
      "image/png": "[encoded data removed]",
      "text/plain": [
       "<matplotlib.figure.Figure at 0x7fa9b97917b8>"
      ]
     },
     "metadata": {},
     "output_type": "display_data"
    }
   ],
   "source": [
    "f, (ax1, ax2, ax3) = plt.subplots(1,3, sharex= True, sharey=True)\n",
    "ax1.hist(sizes_94_l, log = True)\n",
    "ax1.set_title('Hist in 1994')\n",
    "ax2.hist(sizes_97_l, log = True)\n",
    "ax2.set_title('Hist in 1997')\n",
    "ax3.hist(sizes_98_l, log = True)\n",
    "ax3.set_title('Hist in 1998')\n",
    "plt.show()"
   ]
  },
  {
   "cell_type": "code",
   "execution_count": 55,
   "metadata": {
    "collapsed": false
   },
   "outputs": [
    {
     "data": {
      "image/png": "[encoded data removed]",
      "text/plain": [
       "<matplotlib.figure.Figure at 0x7fa9b9f4f748>"
      ]
     },
     "metadata": {},
     "output_type": "display_data"
    }
   ],
   "source": [
    "sizes_97_l= list(sizes_97.values())\n",
    "sizes_98_l= list(sizes_98.values())\n",
    "sizes_94_l= list(sizes_94.values())\n",
    "\n",
    "plt.plot(sizes_94_l,sizes_98_l, 'bo')\n",
    "plt.show()"
   ]
  },
  {
   "cell_type": "code",
   "execution_count": null,
   "metadata": {
    "collapsed": true
   },
   "outputs": [],
   "source": []
  }
 ],
 "metadata": {
  "anaconda-cloud": {},
  "kernelspec": {
   "display_name": "Python [conda root]",
   "language": "python",
   "name": "conda-root-py"
  },
  "language_info": {
   "codemirror_mode": {
    "name": "ipython",
    "version": 3
   },
   "file_extension": ".py",
   "mimetype": "text/x-python",
   "name": "python",
   "nbconvert_exporter": "python",
   "pygments_lexer": "ipython3",
   "version": "3.5.2"
  }
 },
 "nbformat": 4,
 "nbformat_minor": 2
}
