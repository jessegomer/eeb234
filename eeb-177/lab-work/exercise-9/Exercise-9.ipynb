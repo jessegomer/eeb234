{
 "cells": [
  {
   "cell_type": "markdown",
   "metadata": {},
   "source": [
    "# How many fossils:\n",
    "cut -d ',' -f 1 canid_occ.csv | uniq | wc -l\n",
    "2946 (minus the header)\n",
    "\n",
    "# How many fossils are only to genus level?\n",
    "cut -d ',' -f 7 canid_occ.csv | grep \"genus\" | wc -l\n",
    "613 (minus the header)\n",
    "\n",
    "# to species?\n",
    "cut -d ',' -f 7 canid_occ.csv | grep \"species\" | wc -l\n",
    "2106 (minus the header)\n",
    "\n",
    "# How many unique accepted names?\n",
    "cut -d ',' -f 6 canid_occ.csv | sort | uniq | wc -l\n",
    "211 (minus the header)\n",
    "\n"
   ]
  },
  {
   "cell_type": "markdown",
   "metadata": {},
   "source": [
    "# How do we change ghe samplign frequency in Pyrate?\n",
    "-s #changes the sampling frequency\n",
    "\n",
    "# What does -n do?\n",
    "-n changes the number of mcmc generations we run on our samples"
   ]
  },
  {
   "cell_type": "markdown",
   "metadata": {},
   "source": [
    "# What's in the Pyrate mcmc logs\n",
    "sum.txt contains the complete list of used settings for the analysis\n",
    "marginal_rates.log contains the \"marginal rates of speciation, extinction, and net diversification, calculated within 1 time unit (typically Myr)\"\n",
    "mcmc.log is a tsv file that contains the preservation rates, birth and death rates, and the whole series of posteriors and priors used to calculate the data"
   ]
  },
  {
   "cell_type": "code",
   "execution_count": null,
   "metadata": {
    "collapsed": true
   },
   "outputs": [],
   "source": []
  }
 ],
 "metadata": {
  "anaconda-cloud": {},
  "kernelspec": {
   "display_name": "Python [conda root]",
   "language": "python",
   "name": "conda-root-py"
  },
  "language_info": {
   "codemirror_mode": {
    "name": "ipython",
    "version": 3
   },
   "file_extension": ".py",
   "mimetype": "text/x-python",
   "name": "python",
   "nbconvert_exporter": "python",
   "pygments_lexer": "ipython3",
   "version": "3.5.2"
  }
 },
 "nbformat": 4,
 "nbformat_minor": 2
}
