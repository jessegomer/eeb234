{
 "cells": [
  {
   "cell_type": "markdown",
   "metadata": {},
   "source": [
    "# Homework 9\n",
    "\n",
    "## Zack Gold"
   ]
  },
  {
   "cell_type": "markdown",
   "metadata": {},
   "source": [
    "### 1. \n",
    "\n",
    "#### a) Describe the changes in Speciation rates across the Canidae lineage\n",
    "Speciation rates start relatively high begining 50 mya until 30 mya. Then the speciation rates decrease substantially until around 5 mya. Then there is a marked increase in speciation rates until the present.\n",
    "\n",
    "#### b) Describe the changes in Extrinction rates across the Canidae lineage\n",
    "Extinction rates remain low for the vast majority of the Canidae lineage. However, extinction rates increased markedly in the past 2 million years spiking at the present. \n",
    "\n",
    "#### c) Describe the changes in Diversification rates across the canidae lineage\n",
    "Net deviersiffication rates remained low and constant for the vast majority of the Canidae lineage with a slight decline begining 30 mya followed by a slight uptick around 5 mya. However, the most prominant pattern visible in the graph is the drastic decrease in Canidae diversification in the past 4 million years to the present."
   ]
  },
  {
   "cell_type": "markdown",
   "metadata": {},
   "source": [
    "### 2. Comparison of 250K to 2.5M run Pyrate plots\n",
    "\n",
    "Speciation rates show a very similar pattern between the two plots. The only subtle difference is the size and shape of the error rates around the mean speciation rates. The 2.5M plot had slightly wider error rates from 50-30mya and narrower error rates from 30mya to the present.\n",
    "\n",
    "Extinction rates between the two plots displayed similar patterns as observed in the speciation rates.\n",
    "\n",
    "Net diversification rates were very similar as well. However, the 2.5M plot displayed a shallower dip in diversification rates between 30 and 5 mya.\n",
    "\n",
    "The most noticable difference between the two runs is in the longevity of species across the Canidae lineage. In the 2.5M pyrate plot the longevity decreases much earlier in the lineage than in the 250K plot.\n",
    "\n",
    "\n"
   ]
  }
 ],
 "metadata": {
  "anaconda-cloud": {},
  "kernelspec": {
   "display_name": "Python [conda root]",
   "language": "python",
   "name": "conda-root-py"
  },
  "language_info": {
   "codemirror_mode": {
    "name": "ipython",
    "version": 3
   },
   "file_extension": ".py",
   "mimetype": "text/x-python",
   "name": "python",
   "nbconvert_exporter": "python",
   "pygments_lexer": "ipython3",
   "version": "3.5.2"
  }
 },
 "nbformat": 4,
 "nbformat_minor": 2
}
